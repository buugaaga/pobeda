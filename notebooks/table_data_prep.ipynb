{
 "cells": [
  {
   "cell_type": "code",
   "execution_count": 40,
   "metadata": {},
   "outputs": [],
   "source": [
    "import pandas as pd\n",
    "import warnings\n",
    "warnings.filterwarnings('ignore')"
   ]
  },
  {
   "cell_type": "code",
   "execution_count": 41,
   "metadata": {},
   "outputs": [],
   "source": [
    "df = pd.read_csv('filtred_cut_headders.csv', sep = ';')"
   ]
  },
  {
   "cell_type": "code",
   "execution_count": 42,
   "metadata": {},
   "outputs": [
    {
     "data": {
      "text/html": [
       "<div>\n",
       "<style scoped>\n",
       "    .dataframe tbody tr th:only-of-type {\n",
       "        vertical-align: middle;\n",
       "    }\n",
       "\n",
       "    .dataframe tbody tr th {\n",
       "        vertical-align: top;\n",
       "    }\n",
       "\n",
       "    .dataframe thead th {\n",
       "        text-align: right;\n",
       "    }\n",
       "</style>\n",
       "<table border=\"1\" class=\"dataframe\">\n",
       "  <thead>\n",
       "    <tr style=\"text-align: right;\">\n",
       "      <th></th>\n",
       "      <th>pollotion_type</th>\n",
       "      <th>lon</th>\n",
       "      <th>lat</th>\n",
       "      <th>reg_date</th>\n",
       "      <th>last_date</th>\n",
       "      <th>ground_type</th>\n",
       "      <th>square</th>\n",
       "      <th>pollution_level</th>\n",
       "      <th>restovration_date</th>\n",
       "    </tr>\n",
       "  </thead>\n",
       "  <tbody>\n",
       "    <tr>\n",
       "      <th>0</th>\n",
       "      <td>газовый конденсат</td>\n",
       "      <td>77.439654</td>\n",
       "      <td>61.609343</td>\n",
       "      <td>11.03.2020</td>\n",
       "      <td>25.05.2019; 11:00</td>\n",
       "      <td>земли лесного фонда в долгосрочной аренде, зем...</td>\n",
       "      <td>0,0257</td>\n",
       "      <td>Отбор проб не производился</td>\n",
       "      <td>До 2023</td>\n",
       "    </tr>\n",
       "    <tr>\n",
       "      <th>1</th>\n",
       "      <td>газовый конденсат</td>\n",
       "      <td>77.430958</td>\n",
       "      <td>61.610370</td>\n",
       "      <td>11.03.2020</td>\n",
       "      <td>26.06.2019; 09:30</td>\n",
       "      <td>земли промышленности, земли лесного фонда</td>\n",
       "      <td>0,0695</td>\n",
       "      <td>Отбор проб не производился</td>\n",
       "      <td>До 2023</td>\n",
       "    </tr>\n",
       "    <tr>\n",
       "      <th>2</th>\n",
       "      <td>нефть</td>\n",
       "      <td>77.375259</td>\n",
       "      <td>61.542650</td>\n",
       "      <td>11.03.2020</td>\n",
       "      <td>01.10.2019; 14:40</td>\n",
       "      <td>земли лесного фонда в долгосрочной аренде</td>\n",
       "      <td>0,0097</td>\n",
       "      <td>Отбор проб не производился</td>\n",
       "      <td>До 2023</td>\n",
       "    </tr>\n",
       "    <tr>\n",
       "      <th>3</th>\n",
       "      <td>нефть</td>\n",
       "      <td>77,461711</td>\n",
       "      <td>61,625932</td>\n",
       "      <td>02.03.2021</td>\n",
       "      <td>24.03.2020</td>\n",
       "      <td>земли лесного фонда в долгосрочной аренде, зем...</td>\n",
       "      <td>0,0349</td>\n",
       "      <td>Отбор проб не производился</td>\n",
       "      <td>до 2025</td>\n",
       "    </tr>\n",
       "    <tr>\n",
       "      <th>4</th>\n",
       "      <td>нефть</td>\n",
       "      <td>77,430998</td>\n",
       "      <td>61,622685</td>\n",
       "      <td>02.03.2021</td>\n",
       "      <td>08.11.2020</td>\n",
       "      <td>земли лесного фонда в долгосрочной аренде, зем...</td>\n",
       "      <td>0,0199</td>\n",
       "      <td>Отбор проб не производился</td>\n",
       "      <td>до 2025</td>\n",
       "    </tr>\n",
       "    <tr>\n",
       "      <th>...</th>\n",
       "      <td>...</td>\n",
       "      <td>...</td>\n",
       "      <td>...</td>\n",
       "      <td>...</td>\n",
       "      <td>...</td>\n",
       "      <td>...</td>\n",
       "      <td>...</td>\n",
       "      <td>...</td>\n",
       "      <td>...</td>\n",
       "    </tr>\n",
       "    <tr>\n",
       "      <th>1251</th>\n",
       "      <td>нефтесодержащая жидкость</td>\n",
       "      <td>77,597232</td>\n",
       "      <td>61,6667</td>\n",
       "      <td>19.03.2019</td>\n",
       "      <td>-</td>\n",
       "      <td>земли лесного фонда</td>\n",
       "      <td>0,0205</td>\n",
       "      <td>303584</td>\n",
       "      <td>До 2022</td>\n",
       "    </tr>\n",
       "    <tr>\n",
       "      <th>1252</th>\n",
       "      <td>газовый конденсат</td>\n",
       "      <td>77.597286</td>\n",
       "      <td>61.628827</td>\n",
       "      <td>11.03.2020</td>\n",
       "      <td>17.08.2019; 07:50</td>\n",
       "      <td>земли лесного фонда, земли промышленности</td>\n",
       "      <td>0,0059</td>\n",
       "      <td>Отбор проб не производился</td>\n",
       "      <td>До 2023</td>\n",
       "    </tr>\n",
       "    <tr>\n",
       "      <th>1253</th>\n",
       "      <td>нефть</td>\n",
       "      <td>77,597139</td>\n",
       "      <td>61,598427</td>\n",
       "      <td>02.03.2021</td>\n",
       "      <td>20.07.2020</td>\n",
       "      <td>земли лесного фонда в долгосрочной аренде</td>\n",
       "      <td>0,0056</td>\n",
       "      <td>Отбор проб не производился</td>\n",
       "      <td>до 2025</td>\n",
       "    </tr>\n",
       "    <tr>\n",
       "      <th>1254</th>\n",
       "      <td>нефть</td>\n",
       "      <td>77,548388</td>\n",
       "      <td>61,698039</td>\n",
       "      <td>02.03.2021</td>\n",
       "      <td>06.08.2020</td>\n",
       "      <td>земли лесного фонда в долгосрочной аренде, зем...</td>\n",
       "      <td>0,0103</td>\n",
       "      <td>Отбор проб не производился</td>\n",
       "      <td>до 2025</td>\n",
       "    </tr>\n",
       "    <tr>\n",
       "      <th>1255</th>\n",
       "      <td>нефть</td>\n",
       "      <td>77,604480</td>\n",
       "      <td>61,619388</td>\n",
       "      <td>02.03.2021</td>\n",
       "      <td>23.11.2020</td>\n",
       "      <td>земли лесного фонда в долгосрочной аренде, зем...</td>\n",
       "      <td>0,2496</td>\n",
       "      <td>Отбор проб не производился</td>\n",
       "      <td>до 2025</td>\n",
       "    </tr>\n",
       "  </tbody>\n",
       "</table>\n",
       "<p>1256 rows × 9 columns</p>\n",
       "</div>"
      ],
      "text/plain": [
       "                pollotion_type        lon        lat    reg_date  \\\n",
       "0            газовый конденсат  77.439654  61.609343  11.03.2020   \n",
       "1            газовый конденсат  77.430958  61.610370  11.03.2020   \n",
       "2                        нефть  77.375259  61.542650  11.03.2020   \n",
       "3                        нефть  77,461711  61,625932  02.03.2021   \n",
       "4                        нефть  77,430998  61,622685  02.03.2021   \n",
       "...                        ...        ...        ...         ...   \n",
       "1251  нефтесодержащая жидкость  77,597232    61,6667  19.03.2019   \n",
       "1252         газовый конденсат  77.597286  61.628827  11.03.2020   \n",
       "1253                     нефть  77,597139  61,598427  02.03.2021   \n",
       "1254                     нефть  77,548388  61,698039  02.03.2021   \n",
       "1255                     нефть  77,604480  61,619388  02.03.2021   \n",
       "\n",
       "              last_date                                        ground_type  \\\n",
       "0     25.05.2019; 11:00  земли лесного фонда в долгосрочной аренде, зем...   \n",
       "1     26.06.2019; 09:30         земли промышленности, земли лесного фонда    \n",
       "2     01.10.2019; 14:40          земли лесного фонда в долгосрочной аренде   \n",
       "3            24.03.2020  земли лесного фонда в долгосрочной аренде, зем...   \n",
       "4            08.11.2020  земли лесного фонда в долгосрочной аренде, зем...   \n",
       "...                 ...                                                ...   \n",
       "1251                  -                                земли лесного фонда   \n",
       "1252  17.08.2019; 07:50          земли лесного фонда, земли промышленности   \n",
       "1253         20.07.2020          земли лесного фонда в долгосрочной аренде   \n",
       "1254         06.08.2020  земли лесного фонда в долгосрочной аренде, зем...   \n",
       "1255         23.11.2020  земли лесного фонда в долгосрочной аренде, зем...   \n",
       "\n",
       "      square             pollution_level restovration_date  \n",
       "0     0,0257  Отбор проб не производился           До 2023  \n",
       "1     0,0695  Отбор проб не производился           До 2023  \n",
       "2     0,0097  Отбор проб не производился           До 2023  \n",
       "3     0,0349  Отбор проб не производился           до 2025  \n",
       "4     0,0199  Отбор проб не производился           до 2025  \n",
       "...      ...                         ...               ...  \n",
       "1251  0,0205                      303584           До 2022  \n",
       "1252  0,0059  Отбор проб не производился           До 2023  \n",
       "1253  0,0056  Отбор проб не производился           до 2025  \n",
       "1254  0,0103  Отбор проб не производился           до 2025  \n",
       "1255  0,2496  Отбор проб не производился           до 2025  \n",
       "\n",
       "[1256 rows x 9 columns]"
      ]
     },
     "execution_count": 42,
     "metadata": {},
     "output_type": "execute_result"
    }
   ],
   "source": [
    "df"
   ]
  },
  {
   "cell_type": "code",
   "execution_count": 43,
   "metadata": {},
   "outputs": [],
   "source": [
    "df['last_date_cutted'] = df['last_date'].str.split(';', expand=True)[0]"
   ]
  },
  {
   "cell_type": "code",
   "execution_count": 44,
   "metadata": {},
   "outputs": [],
   "source": [
    "df = df[['lon', 'lat', 'reg_date', 'last_date_cutted', 'square']]"
   ]
  },
  {
   "cell_type": "code",
   "execution_count": 45,
   "metadata": {},
   "outputs": [
    {
     "data": {
      "text/plain": [
       "lon                 object\n",
       "lat                 object\n",
       "reg_date            object\n",
       "last_date_cutted    object\n",
       "square              object\n",
       "dtype: object"
      ]
     },
     "execution_count": 45,
     "metadata": {},
     "output_type": "execute_result"
    }
   ],
   "source": [
    "df.dtypes"
   ]
  },
  {
   "cell_type": "code",
   "execution_count": 46,
   "metadata": {},
   "outputs": [],
   "source": [
    "df[\"lon\"]=df[\"lon\"].str.replace(',','.')\n",
    "df[\"lat\"]=df[\"lat\"].str.replace(',','.')\n",
    "df[\"square\"]=df[\"square\"].str.replace(',','.')"
   ]
  },
  {
   "cell_type": "code",
   "execution_count": 47,
   "metadata": {},
   "outputs": [],
   "source": [
    "df = df.astype({\"lon\": 'float32',\n",
    "           \"lat\": 'float32',\n",
    "           \"square\": 'float32',\n",
    "          })\n",
    "df['reg_date'] = pd.to_datetime(df['reg_date'], errors = 'coerce', dayfirst = True)\n",
    "df['last_date_cutted'] = pd.to_datetime(df['last_date_cutted'], errors = 'coerce', dayfirst = True)"
   ]
  },
  {
   "cell_type": "code",
   "execution_count": 48,
   "metadata": {},
   "outputs": [
    {
     "data": {
      "text/plain": [
       "lon                        float32\n",
       "lat                        float32\n",
       "reg_date            datetime64[ns]\n",
       "last_date_cutted    datetime64[ns]\n",
       "square                     float32\n",
       "dtype: object"
      ]
     },
     "execution_count": 48,
     "metadata": {},
     "output_type": "execute_result"
    }
   ],
   "source": [
    "df.dtypes"
   ]
  },
  {
   "cell_type": "code",
   "execution_count": 52,
   "metadata": {},
   "outputs": [
    {
     "data": {
      "text/plain": [
       "lon                   0\n",
       "lat                   0\n",
       "reg_date              0\n",
       "last_date_cutted    418\n",
       "square                0\n",
       "dtype: int64"
      ]
     },
     "execution_count": 52,
     "metadata": {},
     "output_type": "execute_result"
    }
   ],
   "source": [
    "df.isnull().sum()"
   ]
  },
  {
   "cell_type": "code",
   "execution_count": 54,
   "metadata": {},
   "outputs": [
    {
     "name": "stdout",
     "output_type": "stream",
     "text": [
      "<class 'pandas.core.frame.DataFrame'>\n",
      "RangeIndex: 1256 entries, 0 to 1255\n",
      "Data columns (total 5 columns):\n",
      " #   Column            Non-Null Count  Dtype         \n",
      "---  ------            --------------  -----         \n",
      " 0   lon               1256 non-null   float32       \n",
      " 1   lat               1256 non-null   float32       \n",
      " 2   reg_date          1256 non-null   datetime64[ns]\n",
      " 3   last_date_cutted  838 non-null    datetime64[ns]\n",
      " 4   square            1256 non-null   float32       \n",
      "dtypes: datetime64[ns](2), float32(3)\n",
      "memory usage: 34.5 KB\n"
     ]
    }
   ],
   "source": [
    "df.info()"
   ]
  },
  {
   "cell_type": "code",
   "execution_count": 56,
   "metadata": {},
   "outputs": [],
   "source": [
    "df.to_csv('finish_data.csv', index=False)"
   ]
  },
  {
   "cell_type": "code",
   "execution_count": null,
   "metadata": {},
   "outputs": [],
   "source": []
  }
 ],
 "metadata": {
  "kernelspec": {
   "display_name": "Python 3",
   "language": "python",
   "name": "python3"
  },
  "language_info": {
   "codemirror_mode": {
    "name": "ipython",
    "version": 3
   },
   "file_extension": ".py",
   "mimetype": "text/x-python",
   "name": "python",
   "nbconvert_exporter": "python",
   "pygments_lexer": "ipython3",
   "version": "3.8.5"
  }
 },
 "nbformat": 4,
 "nbformat_minor": 4
}

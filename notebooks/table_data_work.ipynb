{
 "cells": [
  {
   "cell_type": "code",
   "execution_count": 4,
   "metadata": {},
   "outputs": [],
   "source": [
    "import pandas as pd\n",
    "import warnings\n",
    "warnings.filterwarnings('ignore')"
   ]
  },
  {
   "cell_type": "code",
   "execution_count": 5,
   "metadata": {},
   "outputs": [],
   "source": [
    "df = pd.read_csv('finish_data.csv')"
   ]
  },
  {
   "cell_type": "code",
   "execution_count": 7,
   "metadata": {},
   "outputs": [
    {
     "data": {
      "text/plain": [
       "lon                 float64\n",
       "lat                 float64\n",
       "reg_date             object\n",
       "last_date_cutted     object\n",
       "square              float64\n",
       "dtype: object"
      ]
     },
     "execution_count": 7,
     "metadata": {},
     "output_type": "execute_result"
    }
   ],
   "source": [
    "df.dtypes"
   ]
  },
  {
   "cell_type": "code",
   "execution_count": 8,
   "metadata": {},
   "outputs": [],
   "source": [
    "df = df.astype({\"lon\": 'float32',\n",
    "           \"lat\": 'float32',\n",
    "           \"square\": 'float32',\n",
    "          })\n",
    "df['reg_date'] = pd.to_datetime(df['reg_date'], errors = 'coerce', dayfirst = True)\n",
    "df['last_date_cutted'] = pd.to_datetime(df['last_date_cutted'], errors = 'coerce', dayfirst = True)"
   ]
  },
  {
   "cell_type": "code",
   "execution_count": 9,
   "metadata": {},
   "outputs": [
    {
     "data": {
      "text/html": [
       "<div>\n",
       "<style scoped>\n",
       "    .dataframe tbody tr th:only-of-type {\n",
       "        vertical-align: middle;\n",
       "    }\n",
       "\n",
       "    .dataframe tbody tr th {\n",
       "        vertical-align: top;\n",
       "    }\n",
       "\n",
       "    .dataframe thead th {\n",
       "        text-align: right;\n",
       "    }\n",
       "</style>\n",
       "<table border=\"1\" class=\"dataframe\">\n",
       "  <thead>\n",
       "    <tr style=\"text-align: right;\">\n",
       "      <th></th>\n",
       "      <th>lon</th>\n",
       "      <th>lat</th>\n",
       "      <th>reg_date</th>\n",
       "      <th>last_date_cutted</th>\n",
       "      <th>square</th>\n",
       "    </tr>\n",
       "  </thead>\n",
       "  <tbody>\n",
       "    <tr>\n",
       "      <th>0</th>\n",
       "      <td>77.439651</td>\n",
       "      <td>61.609344</td>\n",
       "      <td>2020-03-11</td>\n",
       "      <td>2019-05-25</td>\n",
       "      <td>0.0257</td>\n",
       "    </tr>\n",
       "    <tr>\n",
       "      <th>1</th>\n",
       "      <td>77.430962</td>\n",
       "      <td>61.610371</td>\n",
       "      <td>2020-03-11</td>\n",
       "      <td>2019-06-26</td>\n",
       "      <td>0.0695</td>\n",
       "    </tr>\n",
       "    <tr>\n",
       "      <th>2</th>\n",
       "      <td>77.375259</td>\n",
       "      <td>61.542648</td>\n",
       "      <td>2020-03-11</td>\n",
       "      <td>2019-10-01</td>\n",
       "      <td>0.0097</td>\n",
       "    </tr>\n",
       "    <tr>\n",
       "      <th>3</th>\n",
       "      <td>77.461708</td>\n",
       "      <td>61.625931</td>\n",
       "      <td>2021-03-02</td>\n",
       "      <td>2020-03-24</td>\n",
       "      <td>0.0349</td>\n",
       "    </tr>\n",
       "    <tr>\n",
       "      <th>4</th>\n",
       "      <td>77.431000</td>\n",
       "      <td>61.622684</td>\n",
       "      <td>2021-03-02</td>\n",
       "      <td>2020-11-08</td>\n",
       "      <td>0.0199</td>\n",
       "    </tr>\n",
       "  </tbody>\n",
       "</table>\n",
       "</div>"
      ],
      "text/plain": [
       "         lon        lat   reg_date last_date_cutted  square\n",
       "0  77.439651  61.609344 2020-03-11       2019-05-25  0.0257\n",
       "1  77.430962  61.610371 2020-03-11       2019-06-26  0.0695\n",
       "2  77.375259  61.542648 2020-03-11       2019-10-01  0.0097\n",
       "3  77.461708  61.625931 2021-03-02       2020-03-24  0.0349\n",
       "4  77.431000  61.622684 2021-03-02       2020-11-08  0.0199"
      ]
     },
     "execution_count": 9,
     "metadata": {},
     "output_type": "execute_result"
    }
   ],
   "source": [
    "df.head()"
   ]
  },
  {
   "cell_type": "code",
   "execution_count": null,
   "metadata": {},
   "outputs": [],
   "source": []
  }
 ],
 "metadata": {
  "kernelspec": {
   "display_name": "Python 3",
   "language": "python",
   "name": "python3"
  },
  "language_info": {
   "codemirror_mode": {
    "name": "ipython",
    "version": 3
   },
   "file_extension": ".py",
   "mimetype": "text/x-python",
   "name": "python",
   "nbconvert_exporter": "python",
   "pygments_lexer": "ipython3",
   "version": "3.8.5"
  }
 },
 "nbformat": 4,
 "nbformat_minor": 4
}

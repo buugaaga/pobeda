{
 "cells": [
  {
   "cell_type": "markdown",
   "metadata": {},
   "source": [
    "## Imports"
   ]
  },
  {
   "cell_type": "code",
   "execution_count": 266,
   "metadata": {},
   "outputs": [],
   "source": [
    "import pandas as pd\n",
    "import numpy as np\n",
    "import tensorflow as tf\n",
    "from tensorflow import keras\n",
    "from tensorflow.keras import layers\n",
    "import matplotlib.pyplot as plt\n",
    "from sklearn.preprocessing import binarize\n",
    "from numpngw import write_png"
   ]
  },
  {
   "cell_type": "markdown",
   "metadata": {},
   "source": [
    "## Load data from parsed"
   ]
  },
  {
   "cell_type": "code",
   "execution_count": 2,
   "metadata": {},
   "outputs": [],
   "source": [
    "pipes_df = pd.read_csv('dataset_df/pipes_df.csv')\n",
    "spills_df = pd.read_csv('dataset_df/spills_df.csv')"
   ]
  },
  {
   "cell_type": "code",
   "execution_count": 3,
   "metadata": {},
   "outputs": [
    {
     "data": {
      "text/html": [
       "<div>\n",
       "<style scoped>\n",
       "    .dataframe tbody tr th:only-of-type {\n",
       "        vertical-align: middle;\n",
       "    }\n",
       "\n",
       "    .dataframe tbody tr th {\n",
       "        vertical-align: top;\n",
       "    }\n",
       "\n",
       "    .dataframe thead th {\n",
       "        text-align: right;\n",
       "    }\n",
       "</style>\n",
       "<table border=\"1\" class=\"dataframe\">\n",
       "  <thead>\n",
       "    <tr style=\"text-align: right;\">\n",
       "      <th></th>\n",
       "      <th>time</th>\n",
       "      <th>lon_start</th>\n",
       "      <th>lat_start</th>\n",
       "      <th>lon_end</th>\n",
       "      <th>lat_end</th>\n",
       "      <th>name</th>\n",
       "    </tr>\n",
       "  </thead>\n",
       "  <tbody>\n",
       "    <tr>\n",
       "      <th>0</th>\n",
       "      <td>2021-06-04 06:42:19+00:00</td>\n",
       "      <td>73.033226</td>\n",
       "      <td>60.588367</td>\n",
       "      <td>73.044554</td>\n",
       "      <td>60.594281</td>\n",
       "      <td>0_2021_06_04_06_42_19.npy</td>\n",
       "    </tr>\n",
       "    <tr>\n",
       "      <th>1</th>\n",
       "      <td>2021-06-09 06:42:19+00:00</td>\n",
       "      <td>73.033226</td>\n",
       "      <td>60.588367</td>\n",
       "      <td>73.044554</td>\n",
       "      <td>60.594281</td>\n",
       "      <td>1_2021_06_09_06_42_19.npy</td>\n",
       "    </tr>\n",
       "    <tr>\n",
       "      <th>2</th>\n",
       "      <td>2021-06-11 06:32:21+00:00</td>\n",
       "      <td>73.033226</td>\n",
       "      <td>60.588367</td>\n",
       "      <td>73.044554</td>\n",
       "      <td>60.594281</td>\n",
       "      <td>2_2021_06_11_06_32_21.npy</td>\n",
       "    </tr>\n",
       "    <tr>\n",
       "      <th>3</th>\n",
       "      <td>2021-06-14 06:42:20+00:00</td>\n",
       "      <td>73.033226</td>\n",
       "      <td>60.588367</td>\n",
       "      <td>73.044554</td>\n",
       "      <td>60.594281</td>\n",
       "      <td>3_2021_06_14_06_42_20.npy</td>\n",
       "    </tr>\n",
       "    <tr>\n",
       "      <th>4</th>\n",
       "      <td>2021-06-26 06:32:22+00:00</td>\n",
       "      <td>73.033226</td>\n",
       "      <td>60.588367</td>\n",
       "      <td>73.044554</td>\n",
       "      <td>60.594281</td>\n",
       "      <td>4_2021_06_26_06_32_22.npy</td>\n",
       "    </tr>\n",
       "  </tbody>\n",
       "</table>\n",
       "</div>"
      ],
      "text/plain": [
       "                        time  lon_start  lat_start    lon_end    lat_end  \\\n",
       "0  2021-06-04 06:42:19+00:00  73.033226  60.588367  73.044554  60.594281   \n",
       "1  2021-06-09 06:42:19+00:00  73.033226  60.588367  73.044554  60.594281   \n",
       "2  2021-06-11 06:32:21+00:00  73.033226  60.588367  73.044554  60.594281   \n",
       "3  2021-06-14 06:42:20+00:00  73.033226  60.588367  73.044554  60.594281   \n",
       "4  2021-06-26 06:32:22+00:00  73.033226  60.588367  73.044554  60.594281   \n",
       "\n",
       "                        name  \n",
       "0  0_2021_06_04_06_42_19.npy  \n",
       "1  1_2021_06_09_06_42_19.npy  \n",
       "2  2_2021_06_11_06_32_21.npy  \n",
       "3  3_2021_06_14_06_42_20.npy  \n",
       "4  4_2021_06_26_06_32_22.npy  "
      ]
     },
     "execution_count": 3,
     "metadata": {},
     "output_type": "execute_result"
    }
   ],
   "source": [
    "pipes_df.head()"
   ]
  },
  {
   "cell_type": "code",
   "execution_count": 4,
   "metadata": {},
   "outputs": [],
   "source": [
    "new_cols = ['band_' + str(i) for i in range(1, 20)]\n",
    "\n",
    "for col in new_cols:\n",
    "    pipes_df[f'{col}'] = 0.0\n",
    "    spills_df[f'{col}'] = 0.0"
   ]
  },
  {
   "cell_type": "code",
   "execution_count": 6,
   "metadata": {},
   "outputs": [],
   "source": [
    "folder = 'pipes_frames'\n",
    "for i in range(len(pipes_df)):\n",
    "    np_array = np.mean(np.load('dataset/' + folder + '/' + pipes_df.iloc[i, 5]), axis= (0, 1))\n",
    "    for j in range(19):\n",
    "        pipes_df.iloc[i, 6+j] = np_array[j]"
   ]
  },
  {
   "cell_type": "code",
   "execution_count": 7,
   "metadata": {},
   "outputs": [
    {
     "data": {
      "text/plain": [
       "23320"
      ]
     },
     "execution_count": 7,
     "metadata": {},
     "output_type": "execute_result"
    }
   ],
   "source": [
    "len(pipes_df)"
   ]
  },
  {
   "cell_type": "code",
   "execution_count": 9,
   "metadata": {},
   "outputs": [],
   "source": [
    "folder = 'spills_frames'\n",
    "for i in range(len(spills_df)):\n",
    "    np_array = np.mean(np.load('dataset/' + folder + '/' + spills_df.iloc[i, 5]), axis= (0, 1))\n",
    "    for j in range(19):\n",
    "        spills_df.iloc[i, 6+j] = np_array[j]"
   ]
  },
  {
   "cell_type": "code",
   "execution_count": 10,
   "metadata": {},
   "outputs": [
    {
     "name": "stdout",
     "output_type": "stream",
     "text": [
      "23320\n",
      "55429\n"
     ]
    }
   ],
   "source": [
    "print(len(pipes_df))\n",
    "print(len(spills_df))"
   ]
  },
  {
   "cell_type": "code",
   "execution_count": 52,
   "metadata": {},
   "outputs": [],
   "source": [
    "def plot_loss(history):\n",
    "    plt.plot(history.history['accuracy'], label='accuracy')\n",
    "    plt.plot(history.history['val_accuracy'], label='val_accuracy')\n",
    "    plt.ylim([0, 1])\n",
    "    plt.xlabel('Epoch')\n",
    "    plt.ylabel('Error [ACC]')\n",
    "    plt.legend()\n",
    "    plt.grid(True)"
   ]
  },
  {
   "cell_type": "markdown",
   "metadata": {},
   "source": [
    "## Prepare train df"
   ]
  },
  {
   "cell_type": "code",
   "execution_count": 34,
   "metadata": {},
   "outputs": [],
   "source": [
    "pipes_df['y'] = 0\n",
    "spills_df['y'] = 1"
   ]
  },
  {
   "cell_type": "code",
   "execution_count": 35,
   "metadata": {},
   "outputs": [],
   "source": [
    "train_df = pd.concat([pipes_df, spills_df.sample(23320)])"
   ]
  },
  {
   "cell_type": "code",
   "execution_count": 41,
   "metadata": {},
   "outputs": [
    {
     "data": {
      "text/html": [
       "<div>\n",
       "<style scoped>\n",
       "    .dataframe tbody tr th:only-of-type {\n",
       "        vertical-align: middle;\n",
       "    }\n",
       "\n",
       "    .dataframe tbody tr th {\n",
       "        vertical-align: top;\n",
       "    }\n",
       "\n",
       "    .dataframe thead th {\n",
       "        text-align: right;\n",
       "    }\n",
       "</style>\n",
       "<table border=\"1\" class=\"dataframe\">\n",
       "  <thead>\n",
       "    <tr style=\"text-align: right;\">\n",
       "      <th></th>\n",
       "      <th>time</th>\n",
       "      <th>lon_start</th>\n",
       "      <th>lat_start</th>\n",
       "      <th>lon_end</th>\n",
       "      <th>lat_end</th>\n",
       "      <th>name</th>\n",
       "      <th>band_1</th>\n",
       "      <th>band_2</th>\n",
       "      <th>band_3</th>\n",
       "      <th>band_4</th>\n",
       "      <th>...</th>\n",
       "      <th>band_11</th>\n",
       "      <th>band_12</th>\n",
       "      <th>band_13</th>\n",
       "      <th>band_14</th>\n",
       "      <th>band_15</th>\n",
       "      <th>band_16</th>\n",
       "      <th>band_17</th>\n",
       "      <th>band_18</th>\n",
       "      <th>band_19</th>\n",
       "      <th>y</th>\n",
       "    </tr>\n",
       "  </thead>\n",
       "  <tbody>\n",
       "    <tr>\n",
       "      <th>21917</th>\n",
       "      <td>2019-03-15 07:48:44+00:00</td>\n",
       "      <td>61.247597</td>\n",
       "      <td>64.893078</td>\n",
       "      <td>61.260737</td>\n",
       "      <td>64.898977</td>\n",
       "      <td>21917_2019_03_15_07_48_44.npy</td>\n",
       "      <td>3.386096</td>\n",
       "      <td>3.493754</td>\n",
       "      <td>3.371102</td>\n",
       "      <td>3.466945</td>\n",
       "      <td>...</td>\n",
       "      <td>0.764944</td>\n",
       "      <td>0.664413</td>\n",
       "      <td>0.0002</td>\n",
       "      <td>4.815186</td>\n",
       "      <td>0.000000</td>\n",
       "      <td>20.443848</td>\n",
       "      <td>1.0</td>\n",
       "      <td>10.747070</td>\n",
       "      <td>40.152588</td>\n",
       "      <td>1</td>\n",
       "    </tr>\n",
       "    <tr>\n",
       "      <th>20890</th>\n",
       "      <td>2021-07-27 06:53:16+00:00</td>\n",
       "      <td>65.646453</td>\n",
       "      <td>57.895839</td>\n",
       "      <td>65.657662</td>\n",
       "      <td>57.901356</td>\n",
       "      <td>20890_2021_07_27_06_53_16.npy</td>\n",
       "      <td>2.153678</td>\n",
       "      <td>2.271948</td>\n",
       "      <td>2.313056</td>\n",
       "      <td>2.116725</td>\n",
       "      <td>...</td>\n",
       "      <td>3.257207</td>\n",
       "      <td>2.580756</td>\n",
       "      <td>0.0001</td>\n",
       "      <td>36.609619</td>\n",
       "      <td>1.000000</td>\n",
       "      <td>191.221436</td>\n",
       "      <td>1.0</td>\n",
       "      <td>6.675781</td>\n",
       "      <td>0.000000</td>\n",
       "      <td>0</td>\n",
       "    </tr>\n",
       "    <tr>\n",
       "      <th>15523</th>\n",
       "      <td>2021-06-05 07:02:19+00:00</td>\n",
       "      <td>69.809323</td>\n",
       "      <td>60.684492</td>\n",
       "      <td>69.821186</td>\n",
       "      <td>60.690166</td>\n",
       "      <td>15523_2021_06_05_07_02_19.npy</td>\n",
       "      <td>0.569887</td>\n",
       "      <td>0.742056</td>\n",
       "      <td>1.085752</td>\n",
       "      <td>1.214080</td>\n",
       "      <td>...</td>\n",
       "      <td>2.882127</td>\n",
       "      <td>1.954815</td>\n",
       "      <td>0.0002</td>\n",
       "      <td>0.000000</td>\n",
       "      <td>0.000000</td>\n",
       "      <td>15.583984</td>\n",
       "      <td>1.0</td>\n",
       "      <td>4.473145</td>\n",
       "      <td>0.000000</td>\n",
       "      <td>0</td>\n",
       "    </tr>\n",
       "    <tr>\n",
       "      <th>20242</th>\n",
       "      <td>2021-06-08 07:12:48+00:00</td>\n",
       "      <td>64.533311</td>\n",
       "      <td>60.360872</td>\n",
       "      <td>64.545179</td>\n",
       "      <td>60.366482</td>\n",
       "      <td>20242_2021_06_08_07_12_48.npy</td>\n",
       "      <td>4.787566</td>\n",
       "      <td>4.704816</td>\n",
       "      <td>4.554432</td>\n",
       "      <td>4.440856</td>\n",
       "      <td>...</td>\n",
       "      <td>4.701025</td>\n",
       "      <td>4.317624</td>\n",
       "      <td>0.0001</td>\n",
       "      <td>95.100586</td>\n",
       "      <td>1.000000</td>\n",
       "      <td>247.036133</td>\n",
       "      <td>1.0</td>\n",
       "      <td>8.880127</td>\n",
       "      <td>0.000000</td>\n",
       "      <td>0</td>\n",
       "    </tr>\n",
       "    <tr>\n",
       "      <th>17959</th>\n",
       "      <td>2021-06-25 07:02:59+00:00</td>\n",
       "      <td>66.006420</td>\n",
       "      <td>59.186711</td>\n",
       "      <td>66.017104</td>\n",
       "      <td>59.192708</td>\n",
       "      <td>17959_2021_06_25_07_02_59.npy</td>\n",
       "      <td>1.987629</td>\n",
       "      <td>1.976534</td>\n",
       "      <td>1.911212</td>\n",
       "      <td>1.743135</td>\n",
       "      <td>...</td>\n",
       "      <td>1.976967</td>\n",
       "      <td>1.668563</td>\n",
       "      <td>0.0001</td>\n",
       "      <td>36.727539</td>\n",
       "      <td>0.926758</td>\n",
       "      <td>129.095703</td>\n",
       "      <td>1.0</td>\n",
       "      <td>6.386230</td>\n",
       "      <td>0.000000</td>\n",
       "      <td>0</td>\n",
       "    </tr>\n",
       "  </tbody>\n",
       "</table>\n",
       "<p>5 rows × 26 columns</p>\n",
       "</div>"
      ],
      "text/plain": [
       "                            time  lon_start  lat_start    lon_end    lat_end  \\\n",
       "21917  2019-03-15 07:48:44+00:00  61.247597  64.893078  61.260737  64.898977   \n",
       "20890  2021-07-27 06:53:16+00:00  65.646453  57.895839  65.657662  57.901356   \n",
       "15523  2021-06-05 07:02:19+00:00  69.809323  60.684492  69.821186  60.690166   \n",
       "20242  2021-06-08 07:12:48+00:00  64.533311  60.360872  64.545179  60.366482   \n",
       "17959  2021-06-25 07:02:59+00:00  66.006420  59.186711  66.017104  59.192708   \n",
       "\n",
       "                                name    band_1    band_2    band_3    band_4  \\\n",
       "21917  21917_2019_03_15_07_48_44.npy  3.386096  3.493754  3.371102  3.466945   \n",
       "20890  20890_2021_07_27_06_53_16.npy  2.153678  2.271948  2.313056  2.116725   \n",
       "15523  15523_2021_06_05_07_02_19.npy  0.569887  0.742056  1.085752  1.214080   \n",
       "20242  20242_2021_06_08_07_12_48.npy  4.787566  4.704816  4.554432  4.440856   \n",
       "17959  17959_2021_06_25_07_02_59.npy  1.987629  1.976534  1.911212  1.743135   \n",
       "\n",
       "       ...   band_11   band_12  band_13    band_14   band_15     band_16  \\\n",
       "21917  ...  0.764944  0.664413   0.0002   4.815186  0.000000   20.443848   \n",
       "20890  ...  3.257207  2.580756   0.0001  36.609619  1.000000  191.221436   \n",
       "15523  ...  2.882127  1.954815   0.0002   0.000000  0.000000   15.583984   \n",
       "20242  ...  4.701025  4.317624   0.0001  95.100586  1.000000  247.036133   \n",
       "17959  ...  1.976967  1.668563   0.0001  36.727539  0.926758  129.095703   \n",
       "\n",
       "       band_17    band_18    band_19  y  \n",
       "21917      1.0  10.747070  40.152588  1  \n",
       "20890      1.0   6.675781   0.000000  0  \n",
       "15523      1.0   4.473145   0.000000  0  \n",
       "20242      1.0   8.880127   0.000000  0  \n",
       "17959      1.0   6.386230   0.000000  0  \n",
       "\n",
       "[5 rows x 26 columns]"
      ]
     },
     "execution_count": 41,
     "metadata": {},
     "output_type": "execute_result"
    }
   ],
   "source": [
    "train_df.sample(5)"
   ]
  },
  {
   "cell_type": "code",
   "execution_count": 16,
   "metadata": {},
   "outputs": [],
   "source": [
    "train_df = train_df.drop(columns=['time', 'lon_start', 'lat_start', 'lon_end', 'lat_end', 'name'])"
   ]
  },
  {
   "cell_type": "code",
   "execution_count": 17,
   "metadata": {},
   "outputs": [],
   "source": [
    "# train_df['ndvi'] = (train_df['band_8'] - train_df['band_4'])/(train_df['band_8'] + train_df['band_4'])"
   ]
  },
  {
   "cell_type": "code",
   "execution_count": 18,
   "metadata": {},
   "outputs": [],
   "source": [
    "train_df = train_df.dropna()"
   ]
  },
  {
   "cell_type": "code",
   "execution_count": 19,
   "metadata": {},
   "outputs": [],
   "source": [
    "numeric_list = train_df.select_dtypes(include=[np.number]).columns\n",
    "train_df[numeric_list] = train_df[numeric_list].astype(np.float32)"
   ]
  },
  {
   "cell_type": "code",
   "execution_count": 20,
   "metadata": {},
   "outputs": [
    {
     "data": {
      "text/plain": [
       "band_1     float32\n",
       "band_2     float32\n",
       "band_3     float32\n",
       "band_4     float32\n",
       "band_5     float32\n",
       "band_6     float32\n",
       "band_7     float32\n",
       "band_8     float32\n",
       "band_9     float32\n",
       "band_10    float32\n",
       "band_11    float32\n",
       "band_12    float32\n",
       "band_13    float32\n",
       "band_14    float32\n",
       "band_15    float32\n",
       "band_16    float32\n",
       "band_17    float32\n",
       "band_18    float32\n",
       "band_19    float32\n",
       "y          float32\n",
       "dtype: object"
      ]
     },
     "execution_count": 20,
     "metadata": {},
     "output_type": "execute_result"
    }
   ],
   "source": [
    "train_df.dtypes"
   ]
  },
  {
   "cell_type": "code",
   "execution_count": 21,
   "metadata": {},
   "outputs": [],
   "source": [
    "train_dataset = train_df.sample(frac=0.9, random_state=0)\n",
    "test_dataset = train_df.drop(train_dataset.index)"
   ]
  },
  {
   "cell_type": "code",
   "execution_count": 22,
   "metadata": {},
   "outputs": [],
   "source": [
    "train_features = train_dataset.copy()\n",
    "test_features = test_dataset.copy()\n",
    "\n",
    "train_labels = train_features.pop('y')\n",
    "test_labels = test_features.pop('y')"
   ]
  },
  {
   "cell_type": "code",
   "execution_count": 23,
   "metadata": {},
   "outputs": [],
   "source": [
    "# normalizer = tf.keras.layers.experimental.preprocessing.Normalization(axis=-1)"
   ]
  },
  {
   "cell_type": "code",
   "execution_count": 24,
   "metadata": {},
   "outputs": [],
   "source": [
    "# normalizer.adapt(np.array(train_features))"
   ]
  },
  {
   "cell_type": "code",
   "execution_count": 25,
   "metadata": {},
   "outputs": [],
   "source": [
    "# normalizer"
   ]
  },
  {
   "cell_type": "code",
   "execution_count": 26,
   "metadata": {},
   "outputs": [],
   "source": [
    "# first = np.array(train_features[:1])\n",
    "\n",
    "# with np.printoptions(precision=2, suppress=True):\n",
    "#     print('First example:', first)\n",
    "#     print()\n",
    "#     print('Normalized:', normalizer(first).numpy())"
   ]
  },
  {
   "cell_type": "markdown",
   "metadata": {},
   "source": [
    "## Reseach channels in regression for mean_frame"
   ]
  },
  {
   "cell_type": "code",
   "execution_count": 258,
   "metadata": {},
   "outputs": [],
   "source": [
    "model = tf.keras.Sequential([\n",
    "    layers.Dense(units=1, activation=tf.nn.sigmoid)\n",
    "])"
   ]
  },
  {
   "cell_type": "code",
   "execution_count": 259,
   "metadata": {},
   "outputs": [
    {
     "data": {
      "text/plain": [
       "array([[2.6308504e-04],\n",
       "       [9.0063568e-06],\n",
       "       [9.9908638e-01],\n",
       "       [9.9085683e-01],\n",
       "       [1.5121831e-01],\n",
       "       [9.9863154e-01],\n",
       "       [1.0000000e+00],\n",
       "       [1.4828838e-01],\n",
       "       [8.1063437e-01],\n",
       "       [4.3032602e-03]], dtype=float32)"
      ]
     },
     "execution_count": 259,
     "metadata": {},
     "output_type": "execute_result"
    }
   ],
   "source": [
    "model.predict(train_features[:10])"
   ]
  },
  {
   "cell_type": "code",
   "execution_count": 260,
   "metadata": {},
   "outputs": [
    {
     "data": {
      "text/plain": [
       "<tf.Variable 'dense_5/kernel:0' shape=(19, 1) dtype=float32, numpy=\n",
       "array([[-0.4912897 ],\n",
       "       [ 0.01057392],\n",
       "       [-0.48199293],\n",
       "       [ 0.47272098],\n",
       "       [-0.13405198],\n",
       "       [ 0.4812181 ],\n",
       "       [ 0.45060003],\n",
       "       [ 0.36219794],\n",
       "       [ 0.326989  ],\n",
       "       [-0.1107915 ],\n",
       "       [ 0.15657556],\n",
       "       [ 0.2742781 ],\n",
       "       [-0.5048888 ],\n",
       "       [ 0.21617621],\n",
       "       [-0.30498922],\n",
       "       [-0.27531093],\n",
       "       [-0.09397539],\n",
       "       [-0.27519003],\n",
       "       [ 0.21776426]], dtype=float32)>"
      ]
     },
     "execution_count": 260,
     "metadata": {},
     "output_type": "execute_result"
    }
   ],
   "source": [
    "model.layers[0].kernel"
   ]
  },
  {
   "cell_type": "code",
   "execution_count": 261,
   "metadata": {},
   "outputs": [],
   "source": [
    "model.compile(optimizer='sgd',\n",
    "loss='binary_crossentropy',\n",
    "metrics=['accuracy'])"
   ]
  },
  {
   "cell_type": "code",
   "execution_count": 262,
   "metadata": {},
   "outputs": [],
   "source": [
    "history = model.fit(\n",
    "    train_features,\n",
    "    train_labels,\n",
    "    epochs=100,\n",
    "    # Suppress logging.\n",
    "    verbose=0,\n",
    "    # Calculate validation results on 20% of the training data.\n",
    "    validation_split = 0.2)"
   ]
  },
  {
   "cell_type": "code",
   "execution_count": 204,
   "metadata": {},
   "outputs": [
    {
     "data": {
      "text/html": [
       "<div>\n",
       "<style scoped>\n",
       "    .dataframe tbody tr th:only-of-type {\n",
       "        vertical-align: middle;\n",
       "    }\n",
       "\n",
       "    .dataframe tbody tr th {\n",
       "        vertical-align: top;\n",
       "    }\n",
       "\n",
       "    .dataframe thead th {\n",
       "        text-align: right;\n",
       "    }\n",
       "</style>\n",
       "<table border=\"1\" class=\"dataframe\">\n",
       "  <thead>\n",
       "    <tr style=\"text-align: right;\">\n",
       "      <th></th>\n",
       "      <th>0</th>\n",
       "    </tr>\n",
       "    <tr>\n",
       "      <th>index</th>\n",
       "      <th></th>\n",
       "    </tr>\n",
       "  </thead>\n",
       "  <tbody>\n",
       "    <tr>\n",
       "      <th>1</th>\n",
       "      <td>-1.980254</td>\n",
       "    </tr>\n",
       "    <tr>\n",
       "      <th>2</th>\n",
       "      <td>-0.642318</td>\n",
       "    </tr>\n",
       "    <tr>\n",
       "      <th>3</th>\n",
       "      <td>-0.733566</td>\n",
       "    </tr>\n",
       "    <tr>\n",
       "      <th>4</th>\n",
       "      <td>0.775070</td>\n",
       "    </tr>\n",
       "    <tr>\n",
       "      <th>5</th>\n",
       "      <td>2.279209</td>\n",
       "    </tr>\n",
       "    <tr>\n",
       "      <th>6</th>\n",
       "      <td>0.714435</td>\n",
       "    </tr>\n",
       "    <tr>\n",
       "      <th>7</th>\n",
       "      <td>0.381890</td>\n",
       "    </tr>\n",
       "    <tr>\n",
       "      <th>8</th>\n",
       "      <td>-0.149938</td>\n",
       "    </tr>\n",
       "    <tr>\n",
       "      <th>9</th>\n",
       "      <td>-0.131994</td>\n",
       "    </tr>\n",
       "    <tr>\n",
       "      <th>10</th>\n",
       "      <td>-1.042560</td>\n",
       "    </tr>\n",
       "    <tr>\n",
       "      <th>11</th>\n",
       "      <td>-0.624301</td>\n",
       "    </tr>\n",
       "    <tr>\n",
       "      <th>12</th>\n",
       "      <td>1.458659</td>\n",
       "    </tr>\n",
       "    <tr>\n",
       "      <th>13</th>\n",
       "      <td>-0.081451</td>\n",
       "    </tr>\n",
       "    <tr>\n",
       "      <th>14</th>\n",
       "      <td>-0.176268</td>\n",
       "    </tr>\n",
       "    <tr>\n",
       "      <th>15</th>\n",
       "      <td>-0.199435</td>\n",
       "    </tr>\n",
       "    <tr>\n",
       "      <th>16</th>\n",
       "      <td>-0.955811</td>\n",
       "    </tr>\n",
       "    <tr>\n",
       "      <th>17</th>\n",
       "      <td>0.118637</td>\n",
       "    </tr>\n",
       "    <tr>\n",
       "      <th>18</th>\n",
       "      <td>-0.570076</td>\n",
       "    </tr>\n",
       "    <tr>\n",
       "      <th>19</th>\n",
       "      <td>1.020385</td>\n",
       "    </tr>\n",
       "    <tr>\n",
       "      <th>20</th>\n",
       "      <td>-1.407297</td>\n",
       "    </tr>\n",
       "  </tbody>\n",
       "</table>\n",
       "</div>"
      ],
      "text/plain": [
       "              0\n",
       "index          \n",
       "1     -1.980254\n",
       "2     -0.642318\n",
       "3     -0.733566\n",
       "4      0.775070\n",
       "5      2.279209\n",
       "6      0.714435\n",
       "7      0.381890\n",
       "8     -0.149938\n",
       "9     -0.131994\n",
       "10    -1.042560\n",
       "11    -0.624301\n",
       "12     1.458659\n",
       "13    -0.081451\n",
       "14    -0.176268\n",
       "15    -0.199435\n",
       "16    -0.955811\n",
       "17     0.118637\n",
       "18    -0.570076\n",
       "19     1.020385\n",
       "20    -1.407297"
      ]
     },
     "execution_count": 204,
     "metadata": {},
     "output_type": "execute_result"
    }
   ],
   "source": [
    "result = pd.DataFrame(np.array(model.layers[1].kernel))\n",
    "result['index'] = [i for i in range(1, 21)]\n",
    "result = result.set_index('index')\n",
    "result"
   ]
  },
  {
   "cell_type": "markdown",
   "metadata": {},
   "source": [
    "B01 Coastal aerosol - 1.72,\n",
    "B04 Red - 1.494937,\n",
    "B05 Vegetation red edge - 2.550103,\n",
    "B08 NIR - -1.136251\n",
    "B09 Water vapour - -1.161327\n",
    "B10 SWIR Cirrus - -1.052148\n",
    "B11 SWIR - 2.098709\n",
    "CLP - -1.277699"
   ]
  },
  {
   "cell_type": "code",
   "execution_count": 132,
   "metadata": {},
   "outputs": [
    {
     "data": {
      "image/png": "[encoded data removed]",
      "text/plain": [
       "<Figure size 432x288 with 1 Axes>"
      ]
     },
     "metadata": {
      "needs_background": "light"
     },
     "output_type": "display_data"
    }
   ],
   "source": [
    "plot_loss(history)"
   ]
  },
  {
   "cell_type": "markdown",
   "metadata": {},
   "source": [
    "## CNN for mean_frame"
   ]
  },
  {
   "cell_type": "code",
   "execution_count": 27,
   "metadata": {},
   "outputs": [],
   "source": [
    "def build_and_compile_model():\n",
    "    model = keras.Sequential([\n",
    "      layers.Dense(64, activation='relu'),\n",
    "      layers.Dense(64, activation='relu'),\n",
    "      layers.Dense(64, activation='relu'),\n",
    "      layers.Dense(64, activation='relu'),\n",
    "      layers.Dense(1, activation=tf.nn.sigmoid)\n",
    "    ])\n",
    "\n",
    "    model.compile(optimizer='sgd',\n",
    "        loss='binary_crossentropy',\n",
    "        metrics=['accuracy'])\n",
    "    return model"
   ]
  },
  {
   "cell_type": "code",
   "execution_count": 28,
   "metadata": {},
   "outputs": [],
   "source": [
    "dnn_model = build_and_compile_model()"
   ]
  },
  {
   "cell_type": "code",
   "execution_count": 54,
   "metadata": {},
   "outputs": [
    {
     "name": "stdout",
     "output_type": "stream",
     "text": [
      "1050/1050 [==============================] - 4s 4ms/step - loss: 0.4123 - accuracy: 0.8117 - val_loss: 0.4121 - val_accuracy: 0.8101\n"
     ]
    }
   ],
   "source": [
    "history = dnn_model.fit(\n",
    "    train_features,\n",
    "    train_labels,\n",
    "    validation_split=0.2,\n",
    "    verbose=1, epochs=1)"
   ]
  },
  {
   "cell_type": "markdown",
   "metadata": {},
   "source": [
    "## Apply mean_frame clasification to each pixel"
   ]
  },
  {
   "cell_type": "markdown",
   "metadata": {},
   "source": [
    "load 50 frames"
   ]
  },
  {
   "cell_type": "code",
   "execution_count": null,
   "metadata": {},
   "outputs": [],
   "source": [
    "write_png "
   ]
  },
  {
   "cell_type": "code",
   "execution_count": 274,
   "metadata": {},
   "outputs": [],
   "source": [
    "folder = 'pipes_frames'\n",
    "np_pipe_frames = None\n",
    "for i in range(0, 200):\n",
    "    np_array = np.load('dataset/' + folder + '/' + pipes_df.iloc[i, 5])[None, ...]\n",
    "    np_pipe_frames = (np.vstack((np_pipe_frames, np_array)) if (np_pipe_frames is not None) else np_array)\n"
   ]
  },
  {
   "cell_type": "code",
   "execution_count": 276,
   "metadata": {},
   "outputs": [],
   "source": [
    "folder = 'spills_frames'\n",
    "np_spills_frames = None\n",
    "for i in range(0, 200):\n",
    "    np_array = np.load('dataset/' + folder + '/' + spills_df.iloc[i, 5])[None, ...]\n",
    "    np_spills_frames = (np.vstack((np_spills_frames, np_array)) if (np_spills_frames is not None) else np_array)"
   ]
  },
  {
   "cell_type": "code",
   "execution_count": 311,
   "metadata": {},
   "outputs": [],
   "source": []
  },
  {
   "cell_type": "code",
   "execution_count": 291,
   "metadata": {},
   "outputs": [],
   "source": [
    "for i in range(len(np_pipe_frames)):\n",
    "    test_frame = pd.DataFrame(np_pipe_frames[i].reshape((4096, 19)), columns = ['band_1', 'band_2', 'band_3', 'band_4', 'band_5', 'band_6', 'band_7',\n",
    "       'band_8', 'band_9', 'band_10', 'band_11', 'band_12', 'band_13',\n",
    "       'band_14', 'band_15', 'band_16', 'band_17', 'band_18', 'band_19'])\n",
    "    img_frame = test_frame[[ 'band_2', 'band_3', 'band_4']]\n",
    "    img_frame = np.array(img_frame).reshape((64, 64, 3))\n",
    "    max_element = np.amax(img_frame)\n",
    "    img_frame = (img_frame/max_element * 255).astype('uint8')\n",
    "    write_png('pipes_images/' + pipes_df.iloc[i, 5] + '.png', img_frame)\n",
    "    "
   ]
  },
  {
   "cell_type": "code",
   "execution_count": 277,
   "metadata": {},
   "outputs": [
    {
     "name": "stderr",
     "output_type": "stream",
     "text": [
      "<ipython-input-277-3380c113c329>:8: RuntimeWarning: invalid value encountered in true_divide\n",
      "  img_frame = (img_frame/max_element * 255).astype('uint8')\n"
     ]
    }
   ],
   "source": [
    "for i in range(len(np_spills_frames)):\n",
    "    test_frame = pd.DataFrame(np_spills_frames[i].reshape((4096, 19)), columns = ['band_1', 'band_2', 'band_3', 'band_4', 'band_5', 'band_6', 'band_7',\n",
    "       'band_8', 'band_9', 'band_10', 'band_11', 'band_12', 'band_13',\n",
    "       'band_14', 'band_15', 'band_16', 'band_17', 'band_18', 'band_19'])\n",
    "    img_frame = test_frame[[ 'band_2', 'band_3', 'band_4']]\n",
    "\n",
    "    img_frame = np.array(img_frame).reshape((64, 64, 3))\n",
    "    max_element = np.amax(img_frame)\n",
    "    img_frame = (img_frame/max_element * 255).astype('uint8')\n",
    "    write_png('spills_images/' + spills_df.iloc[i, 5] + '.png', img_frame)"
   ]
  },
  {
   "cell_type": "code",
   "execution_count": 835,
   "metadata": {},
   "outputs": [
    {
     "name": "stdout",
     "output_type": "stream",
     "text": [
      "3.288\n"
     ]
    }
   ],
   "source": [
    "FRAME = 6\n",
    "test_frame = pd.DataFrame(np_spills_frames[FRAME].reshape((4096, 19)), columns = ['band_1', 'band_2', 'band_3', 'band_4', 'band_5', 'band_6', 'band_7',\n",
    "       'band_8', 'band_9', 'band_10', 'band_11', 'band_12', 'band_13',\n",
    "       'band_14', 'band_15', 'band_16', 'band_17', 'band_18', 'band_19'])\n",
    "img_frame = test_frame[[ 'band_2', 'band_3', 'band_4']]\n",
    "img_frame = np.array(img_frame).reshape((64, 64, 3))\n",
    "max_element = np.amax(img_frame)\n",
    "img_frame = (img_frame/max_element * 255).astype(int)\n",
    "# b5_frame = (test_frame['band_8'] - test_frame['band_4'])/(test_frame['band_8'] + test_frame['band_4'])\n",
    "b5_frame = (test_frame['band_8'] - test_frame['band_4'])/(test_frame['band_8'] + test_frame['band_4'])\n",
    "# b5_frame = test_frame['band_5']\n",
    "# b5_frame = test_frame['band_11']\n",
    "b5_frame = np.array(b5_frame).reshape((64, 64, 1))\n",
    "print(max_element)\n",
    "max_element = 3 #np.amax(b5_frame)\n",
    "\n",
    "b5_frame = (b5_frame/max_element * 255).astype('uint8')"
   ]
  },
  {
   "cell_type": "code",
   "execution_count": 836,
   "metadata": {},
   "outputs": [],
   "source": [
    "b5_prediction = (-b5_frame+255)/255"
   ]
  },
  {
   "cell_type": "code",
   "execution_count": 837,
   "metadata": {},
   "outputs": [
    {
     "name": "stderr",
     "output_type": "stream",
     "text": [
      "C:\\Users\\Dmitry\\anaconda3\\lib\\site-packages\\sklearn\\utils\\validation.py:67: FutureWarning: Pass threshold=0.7 as keyword args. From version 0.25 passing these as positional arguments will result in an error\n",
      "  warnings.warn(\"Pass {} as keyword args. From version 0.25 \"\n"
     ]
    }
   ],
   "source": [
    "prediction_labels = np.ravel(binarize(b5_prediction.reshape(1,-1), 0.7))"
   ]
  },
  {
   "cell_type": "code",
   "execution_count": 838,
   "metadata": {},
   "outputs": [],
   "source": [
    "prediction_mask = prediction_labels.reshape((64, 64))"
   ]
  },
  {
   "cell_type": "code",
   "execution_count": 839,
   "metadata": {},
   "outputs": [
    {
     "data": {
      "text/plain": [
       "<matplotlib.image.AxesImage at 0x1f9c5c2b7f0>"
      ]
     },
     "execution_count": 839,
     "metadata": {},
     "output_type": "execute_result"
    },
    {
     "data": {
      "image/png": "[encoded data removed]",
      "text/plain": [
       "<Figure size 432x288 with 1 Axes>"
      ]
     },
     "metadata": {
      "needs_background": "light"
     },
     "output_type": "display_data"
    }
   ],
   "source": [
    "plt.imshow(b5_prediction)"
   ]
  },
  {
   "cell_type": "code",
   "execution_count": 840,
   "metadata": {},
   "outputs": [
    {
     "data": {
      "text/plain": [
       "<matplotlib.image.AxesImage at 0x1f9c6c65310>"
      ]
     },
     "execution_count": 840,
     "metadata": {},
     "output_type": "execute_result"
    },
    {
     "data": {
      "image/png": "[encoded data removed]",
      "text/plain": [
       "<Figure size 432x288 with 1 Axes>"
      ]
     },
     "metadata": {
      "needs_background": "light"
     },
     "output_type": "display_data"
    }
   ],
   "source": [
    "plt.imshow(prediction_mask)"
   ]
  },
  {
   "cell_type": "code",
   "execution_count": 841,
   "metadata": {},
   "outputs": [
    {
     "data": {
      "text/plain": [
       "<matplotlib.image.AxesImage at 0x1f9c6cc30d0>"
      ]
     },
     "execution_count": 841,
     "metadata": {},
     "output_type": "execute_result"
    },
    {
     "data": {
      "image/png": "[encoded data removed]",
      "text/plain": [
       "<Figure size 432x288 with 1 Axes>"
      ]
     },
     "metadata": {
      "needs_background": "light"
     },
     "output_type": "display_data"
    }
   ],
   "source": [
    "plt.imshow(img_frame)"
   ]
  },
  {
   "cell_type": "code",
   "execution_count": 783,
   "metadata": {},
   "outputs": [],
   "source": [
    "prediction = dnn_model.predict(test_frame).flatten()"
   ]
  },
  {
   "cell_type": "code",
   "execution_count": 698,
   "metadata": {},
   "outputs": [
    {
     "name": "stderr",
     "output_type": "stream",
     "text": [
      "C:\\Users\\Dmitry\\anaconda3\\lib\\site-packages\\sklearn\\utils\\validation.py:67: FutureWarning: Pass threshold=0.7 as keyword args. From version 0.25 passing these as positional arguments will result in an error\n",
      "  warnings.warn(\"Pass {} as keyword args. From version 0.25 \"\n"
     ]
    }
   ],
   "source": [
    "prediction_labels = np.ravel(binarize(prediction.reshape(1,-1), 0.7))"
   ]
  },
  {
   "cell_type": "code",
   "execution_count": 699,
   "metadata": {},
   "outputs": [],
   "source": [
    "prediction_mask = prediction_labels.reshape((64, 64))"
   ]
  },
  {
   "cell_type": "code",
   "execution_count": 700,
   "metadata": {},
   "outputs": [],
   "source": [
    "import matplotlib.pyplot as plt"
   ]
  },
  {
   "cell_type": "code",
   "execution_count": 701,
   "metadata": {},
   "outputs": [
    {
     "data": {
      "text/plain": [
       "<matplotlib.image.AxesImage at 0x1f9beb99220>"
      ]
     },
     "execution_count": 701,
     "metadata": {},
     "output_type": "execute_result"
    },
    {
     "data": {
      "image/png": "[encoded data removed]",
      "text/plain": [
       "<Figure size 432x288 with 1 Axes>"
      ]
     },
     "metadata": {
      "needs_background": "light"
     },
     "output_type": "display_data"
    }
   ],
   "source": [
    "plt.imshow(prediction_mask)"
   ]
  },
  {
   "cell_type": "code",
   "execution_count": 256,
   "metadata": {},
   "outputs": [
    {
     "ename": "ValueError",
     "evalue": "in user code:\n\n    C:\\Users\\Dmitry\\anaconda3\\lib\\site-packages\\tensorflow\\python\\keras\\engine\\training.py:1569 predict_function  *\n        return step_function(self, iterator)\n    C:\\Users\\Dmitry\\anaconda3\\lib\\site-packages\\tensorflow\\python\\keras\\engine\\training.py:1559 step_function  **\n        outputs = model.distribute_strategy.run(run_step, args=(data,))\n    C:\\Users\\Dmitry\\anaconda3\\lib\\site-packages\\tensorflow\\python\\distribute\\distribute_lib.py:1285 run\n        return self._extended.call_for_each_replica(fn, args=args, kwargs=kwargs)\n    C:\\Users\\Dmitry\\anaconda3\\lib\\site-packages\\tensorflow\\python\\distribute\\distribute_lib.py:2833 call_for_each_replica\n        return self._call_for_each_replica(fn, args, kwargs)\n    C:\\Users\\Dmitry\\anaconda3\\lib\\site-packages\\tensorflow\\python\\distribute\\distribute_lib.py:3608 _call_for_each_replica\n        return fn(*args, **kwargs)\n    C:\\Users\\Dmitry\\anaconda3\\lib\\site-packages\\tensorflow\\python\\keras\\engine\\training.py:1552 run_step  **\n        outputs = model.predict_step(data)\n    C:\\Users\\Dmitry\\anaconda3\\lib\\site-packages\\tensorflow\\python\\keras\\engine\\training.py:1525 predict_step\n        return self(x, training=False)\n    C:\\Users\\Dmitry\\anaconda3\\lib\\site-packages\\tensorflow\\python\\keras\\engine\\base_layer.py:1013 __call__\n        input_spec.assert_input_compatibility(self.input_spec, inputs, self.name)\n    C:\\Users\\Dmitry\\anaconda3\\lib\\site-packages\\tensorflow\\python\\keras\\engine\\input_spec.py:251 assert_input_compatibility\n        raise ValueError(\n\n    ValueError: Input 0 of layer sequential is incompatible with the layer: expected axis -1 of input shape to have value 19 but received input with shape (None, 1)\n",
     "output_type": "error",
     "traceback": [
      "\u001b[1;31m---------------------------------------------------------------------------\u001b[0m",
      "\u001b[1;31mValueError\u001b[0m                                Traceback (most recent call last)",
      "\u001b[1;32m<ipython-input-256-b0219de486d8>\u001b[0m in \u001b[0;36m<module>\u001b[1;34m\u001b[0m\n\u001b[0;32m      1\u001b[0m \u001b[1;32mfor\u001b[0m \u001b[0mframe_index\u001b[0m \u001b[1;32min\u001b[0m \u001b[0mrange\u001b[0m\u001b[1;33m(\u001b[0m\u001b[0mlen\u001b[0m\u001b[1;33m(\u001b[0m\u001b[0mnp_pipe_frames\u001b[0m\u001b[1;33m)\u001b[0m\u001b[1;33m)\u001b[0m\u001b[1;33m:\u001b[0m\u001b[1;33m\u001b[0m\u001b[1;33m\u001b[0m\u001b[0m\n\u001b[1;32m----> 2\u001b[1;33m             \u001b[0mlabel\u001b[0m \u001b[1;33m=\u001b[0m \u001b[0mdnn_model\u001b[0m\u001b[1;33m.\u001b[0m\u001b[0mpredict\u001b[0m\u001b[1;33m(\u001b[0m\u001b[0mpixel\u001b[0m\u001b[1;33m)\u001b[0m\u001b[1;33m.\u001b[0m\u001b[0mflatten\u001b[0m\u001b[1;33m(\u001b[0m\u001b[1;33m)\u001b[0m\u001b[1;33m\u001b[0m\u001b[1;33m\u001b[0m\u001b[0m\n\u001b[0m",
      "\u001b[1;32m~\\anaconda3\\lib\\site-packages\\tensorflow\\python\\keras\\engine\\training.py\u001b[0m in \u001b[0;36mpredict\u001b[1;34m(self, x, batch_size, verbose, steps, callbacks, max_queue_size, workers, use_multiprocessing)\u001b[0m\n\u001b[0;32m   1725\u001b[0m           \u001b[1;32mfor\u001b[0m \u001b[0mstep\u001b[0m \u001b[1;32min\u001b[0m \u001b[0mdata_handler\u001b[0m\u001b[1;33m.\u001b[0m\u001b[0msteps\u001b[0m\u001b[1;33m(\u001b[0m\u001b[1;33m)\u001b[0m\u001b[1;33m:\u001b[0m\u001b[1;33m\u001b[0m\u001b[1;33m\u001b[0m\u001b[0m\n\u001b[0;32m   1726\u001b[0m             \u001b[0mcallbacks\u001b[0m\u001b[1;33m.\u001b[0m\u001b[0mon_predict_batch_begin\u001b[0m\u001b[1;33m(\u001b[0m\u001b[0mstep\u001b[0m\u001b[1;33m)\u001b[0m\u001b[1;33m\u001b[0m\u001b[1;33m\u001b[0m\u001b[0m\n\u001b[1;32m-> 1727\u001b[1;33m             \u001b[0mtmp_batch_outputs\u001b[0m \u001b[1;33m=\u001b[0m \u001b[0mself\u001b[0m\u001b[1;33m.\u001b[0m\u001b[0mpredict_function\u001b[0m\u001b[1;33m(\u001b[0m\u001b[0miterator\u001b[0m\u001b[1;33m)\u001b[0m\u001b[1;33m\u001b[0m\u001b[1;33m\u001b[0m\u001b[0m\n\u001b[0m\u001b[0;32m   1728\u001b[0m             \u001b[1;32mif\u001b[0m \u001b[0mdata_handler\u001b[0m\u001b[1;33m.\u001b[0m\u001b[0mshould_sync\u001b[0m\u001b[1;33m:\u001b[0m\u001b[1;33m\u001b[0m\u001b[1;33m\u001b[0m\u001b[0m\n\u001b[0;32m   1729\u001b[0m               \u001b[0mcontext\u001b[0m\u001b[1;33m.\u001b[0m\u001b[0masync_wait\u001b[0m\u001b[1;33m(\u001b[0m\u001b[1;33m)\u001b[0m\u001b[1;33m\u001b[0m\u001b[1;33m\u001b[0m\u001b[0m\n",
      "\u001b[1;32m~\\anaconda3\\lib\\site-packages\\tensorflow\\python\\eager\\def_function.py\u001b[0m in \u001b[0;36m__call__\u001b[1;34m(self, *args, **kwds)\u001b[0m\n\u001b[0;32m    887\u001b[0m \u001b[1;33m\u001b[0m\u001b[0m\n\u001b[0;32m    888\u001b[0m       \u001b[1;32mwith\u001b[0m \u001b[0mOptionalXlaContext\u001b[0m\u001b[1;33m(\u001b[0m\u001b[0mself\u001b[0m\u001b[1;33m.\u001b[0m\u001b[0m_jit_compile\u001b[0m\u001b[1;33m)\u001b[0m\u001b[1;33m:\u001b[0m\u001b[1;33m\u001b[0m\u001b[1;33m\u001b[0m\u001b[0m\n\u001b[1;32m--> 889\u001b[1;33m         \u001b[0mresult\u001b[0m \u001b[1;33m=\u001b[0m \u001b[0mself\u001b[0m\u001b[1;33m.\u001b[0m\u001b[0m_call\u001b[0m\u001b[1;33m(\u001b[0m\u001b[1;33m*\u001b[0m\u001b[0margs\u001b[0m\u001b[1;33m,\u001b[0m \u001b[1;33m**\u001b[0m\u001b[0mkwds\u001b[0m\u001b[1;33m)\u001b[0m\u001b[1;33m\u001b[0m\u001b[1;33m\u001b[0m\u001b[0m\n\u001b[0m\u001b[0;32m    890\u001b[0m \u001b[1;33m\u001b[0m\u001b[0m\n\u001b[0;32m    891\u001b[0m       \u001b[0mnew_tracing_count\u001b[0m \u001b[1;33m=\u001b[0m \u001b[0mself\u001b[0m\u001b[1;33m.\u001b[0m\u001b[0mexperimental_get_tracing_count\u001b[0m\u001b[1;33m(\u001b[0m\u001b[1;33m)\u001b[0m\u001b[1;33m\u001b[0m\u001b[1;33m\u001b[0m\u001b[0m\n",
      "\u001b[1;32m~\\anaconda3\\lib\\site-packages\\tensorflow\\python\\eager\\def_function.py\u001b[0m in \u001b[0;36m_call\u001b[1;34m(self, *args, **kwds)\u001b[0m\n\u001b[0;32m    922\u001b[0m       \u001b[1;31m# In this case we have not created variables on the first call. So we can\u001b[0m\u001b[1;33m\u001b[0m\u001b[1;33m\u001b[0m\u001b[1;33m\u001b[0m\u001b[0m\n\u001b[0;32m    923\u001b[0m       \u001b[1;31m# run the first trace but we should fail if variables are created.\u001b[0m\u001b[1;33m\u001b[0m\u001b[1;33m\u001b[0m\u001b[1;33m\u001b[0m\u001b[0m\n\u001b[1;32m--> 924\u001b[1;33m       \u001b[0mresults\u001b[0m \u001b[1;33m=\u001b[0m \u001b[0mself\u001b[0m\u001b[1;33m.\u001b[0m\u001b[0m_stateful_fn\u001b[0m\u001b[1;33m(\u001b[0m\u001b[1;33m*\u001b[0m\u001b[0margs\u001b[0m\u001b[1;33m,\u001b[0m \u001b[1;33m**\u001b[0m\u001b[0mkwds\u001b[0m\u001b[1;33m)\u001b[0m\u001b[1;33m\u001b[0m\u001b[1;33m\u001b[0m\u001b[0m\n\u001b[0m\u001b[0;32m    925\u001b[0m       \u001b[1;32mif\u001b[0m \u001b[0mself\u001b[0m\u001b[1;33m.\u001b[0m\u001b[0m_created_variables\u001b[0m\u001b[1;33m:\u001b[0m\u001b[1;33m\u001b[0m\u001b[1;33m\u001b[0m\u001b[0m\n\u001b[0;32m    926\u001b[0m         raise ValueError(\"Creating variables on a non-first call to a function\"\n",
      "\u001b[1;32m~\\anaconda3\\lib\\site-packages\\tensorflow\\python\\eager\\function.py\u001b[0m in \u001b[0;36m__call__\u001b[1;34m(self, *args, **kwargs)\u001b[0m\n\u001b[0;32m   3020\u001b[0m     \u001b[1;32mwith\u001b[0m \u001b[0mself\u001b[0m\u001b[1;33m.\u001b[0m\u001b[0m_lock\u001b[0m\u001b[1;33m:\u001b[0m\u001b[1;33m\u001b[0m\u001b[1;33m\u001b[0m\u001b[0m\n\u001b[0;32m   3021\u001b[0m       (graph_function,\n\u001b[1;32m-> 3022\u001b[1;33m        filtered_flat_args) = self._maybe_define_function(args, kwargs)\n\u001b[0m\u001b[0;32m   3023\u001b[0m     return graph_function._call_flat(\n\u001b[0;32m   3024\u001b[0m         filtered_flat_args, captured_inputs=graph_function.captured_inputs)  # pylint: disable=protected-access\n",
      "\u001b[1;32m~\\anaconda3\\lib\\site-packages\\tensorflow\\python\\eager\\function.py\u001b[0m in \u001b[0;36m_maybe_define_function\u001b[1;34m(self, args, kwargs)\u001b[0m\n\u001b[0;32m   3438\u001b[0m               \u001b[0mself\u001b[0m\u001b[1;33m.\u001b[0m\u001b[0minput_signature\u001b[0m \u001b[1;32mis\u001b[0m \u001b[1;32mNone\u001b[0m \u001b[1;32mand\u001b[0m\u001b[1;33m\u001b[0m\u001b[1;33m\u001b[0m\u001b[0m\n\u001b[0;32m   3439\u001b[0m               call_context_key in self._function_cache.missed):\n\u001b[1;32m-> 3440\u001b[1;33m             return self._define_function_with_shape_relaxation(\n\u001b[0m\u001b[0;32m   3441\u001b[0m                 args, kwargs, flat_args, filtered_flat_args, cache_key_context)\n\u001b[0;32m   3442\u001b[0m \u001b[1;33m\u001b[0m\u001b[0m\n",
      "\u001b[1;32m~\\anaconda3\\lib\\site-packages\\tensorflow\\python\\eager\\function.py\u001b[0m in \u001b[0;36m_define_function_with_shape_relaxation\u001b[1;34m(self, args, kwargs, flat_args, filtered_flat_args, cache_key_context)\u001b[0m\n\u001b[0;32m   3360\u001b[0m           expand_composites=True)\n\u001b[0;32m   3361\u001b[0m \u001b[1;33m\u001b[0m\u001b[0m\n\u001b[1;32m-> 3362\u001b[1;33m     graph_function = self._create_graph_function(\n\u001b[0m\u001b[0;32m   3363\u001b[0m         args, kwargs, override_flat_arg_shapes=relaxed_arg_shapes)\n\u001b[0;32m   3364\u001b[0m     \u001b[0mself\u001b[0m\u001b[1;33m.\u001b[0m\u001b[0m_function_cache\u001b[0m\u001b[1;33m.\u001b[0m\u001b[0marg_relaxed\u001b[0m\u001b[1;33m[\u001b[0m\u001b[0mrank_only_cache_key\u001b[0m\u001b[1;33m]\u001b[0m \u001b[1;33m=\u001b[0m \u001b[0mgraph_function\u001b[0m\u001b[1;33m\u001b[0m\u001b[1;33m\u001b[0m\u001b[0m\n",
      "\u001b[1;32m~\\anaconda3\\lib\\site-packages\\tensorflow\\python\\eager\\function.py\u001b[0m in \u001b[0;36m_create_graph_function\u001b[1;34m(self, args, kwargs, override_flat_arg_shapes)\u001b[0m\n\u001b[0;32m   3277\u001b[0m     \u001b[0marg_names\u001b[0m \u001b[1;33m=\u001b[0m \u001b[0mbase_arg_names\u001b[0m \u001b[1;33m+\u001b[0m \u001b[0mmissing_arg_names\u001b[0m\u001b[1;33m\u001b[0m\u001b[1;33m\u001b[0m\u001b[0m\n\u001b[0;32m   3278\u001b[0m     graph_function = ConcreteFunction(\n\u001b[1;32m-> 3279\u001b[1;33m         func_graph_module.func_graph_from_py_func(\n\u001b[0m\u001b[0;32m   3280\u001b[0m             \u001b[0mself\u001b[0m\u001b[1;33m.\u001b[0m\u001b[0m_name\u001b[0m\u001b[1;33m,\u001b[0m\u001b[1;33m\u001b[0m\u001b[1;33m\u001b[0m\u001b[0m\n\u001b[0;32m   3281\u001b[0m             \u001b[0mself\u001b[0m\u001b[1;33m.\u001b[0m\u001b[0m_python_function\u001b[0m\u001b[1;33m,\u001b[0m\u001b[1;33m\u001b[0m\u001b[1;33m\u001b[0m\u001b[0m\n",
      "\u001b[1;32m~\\anaconda3\\lib\\site-packages\\tensorflow\\python\\framework\\func_graph.py\u001b[0m in \u001b[0;36mfunc_graph_from_py_func\u001b[1;34m(name, python_func, args, kwargs, signature, func_graph, autograph, autograph_options, add_control_dependencies, arg_names, op_return_value, collections, capture_by_value, override_flat_arg_shapes)\u001b[0m\n\u001b[0;32m    997\u001b[0m         \u001b[0m_\u001b[0m\u001b[1;33m,\u001b[0m \u001b[0moriginal_func\u001b[0m \u001b[1;33m=\u001b[0m \u001b[0mtf_decorator\u001b[0m\u001b[1;33m.\u001b[0m\u001b[0munwrap\u001b[0m\u001b[1;33m(\u001b[0m\u001b[0mpython_func\u001b[0m\u001b[1;33m)\u001b[0m\u001b[1;33m\u001b[0m\u001b[1;33m\u001b[0m\u001b[0m\n\u001b[0;32m    998\u001b[0m \u001b[1;33m\u001b[0m\u001b[0m\n\u001b[1;32m--> 999\u001b[1;33m       \u001b[0mfunc_outputs\u001b[0m \u001b[1;33m=\u001b[0m \u001b[0mpython_func\u001b[0m\u001b[1;33m(\u001b[0m\u001b[1;33m*\u001b[0m\u001b[0mfunc_args\u001b[0m\u001b[1;33m,\u001b[0m \u001b[1;33m**\u001b[0m\u001b[0mfunc_kwargs\u001b[0m\u001b[1;33m)\u001b[0m\u001b[1;33m\u001b[0m\u001b[1;33m\u001b[0m\u001b[0m\n\u001b[0m\u001b[0;32m   1000\u001b[0m \u001b[1;33m\u001b[0m\u001b[0m\n\u001b[0;32m   1001\u001b[0m       \u001b[1;31m# invariant: `func_outputs` contains only Tensors, CompositeTensors,\u001b[0m\u001b[1;33m\u001b[0m\u001b[1;33m\u001b[0m\u001b[1;33m\u001b[0m\u001b[0m\n",
      "\u001b[1;32m~\\anaconda3\\lib\\site-packages\\tensorflow\\python\\eager\\def_function.py\u001b[0m in \u001b[0;36mwrapped_fn\u001b[1;34m(*args, **kwds)\u001b[0m\n\u001b[0;32m    670\u001b[0m         \u001b[1;31m# the function a weak reference to itself to avoid a reference cycle.\u001b[0m\u001b[1;33m\u001b[0m\u001b[1;33m\u001b[0m\u001b[1;33m\u001b[0m\u001b[0m\n\u001b[0;32m    671\u001b[0m         \u001b[1;32mwith\u001b[0m \u001b[0mOptionalXlaContext\u001b[0m\u001b[1;33m(\u001b[0m\u001b[0mcompile_with_xla\u001b[0m\u001b[1;33m)\u001b[0m\u001b[1;33m:\u001b[0m\u001b[1;33m\u001b[0m\u001b[1;33m\u001b[0m\u001b[0m\n\u001b[1;32m--> 672\u001b[1;33m           \u001b[0mout\u001b[0m \u001b[1;33m=\u001b[0m \u001b[0mweak_wrapped_fn\u001b[0m\u001b[1;33m(\u001b[0m\u001b[1;33m)\u001b[0m\u001b[1;33m.\u001b[0m\u001b[0m__wrapped__\u001b[0m\u001b[1;33m(\u001b[0m\u001b[1;33m*\u001b[0m\u001b[0margs\u001b[0m\u001b[1;33m,\u001b[0m \u001b[1;33m**\u001b[0m\u001b[0mkwds\u001b[0m\u001b[1;33m)\u001b[0m\u001b[1;33m\u001b[0m\u001b[1;33m\u001b[0m\u001b[0m\n\u001b[0m\u001b[0;32m    673\u001b[0m         \u001b[1;32mreturn\u001b[0m \u001b[0mout\u001b[0m\u001b[1;33m\u001b[0m\u001b[1;33m\u001b[0m\u001b[0m\n\u001b[0;32m    674\u001b[0m \u001b[1;33m\u001b[0m\u001b[0m\n",
      "\u001b[1;32m~\\anaconda3\\lib\\site-packages\\tensorflow\\python\\framework\\func_graph.py\u001b[0m in \u001b[0;36mwrapper\u001b[1;34m(*args, **kwargs)\u001b[0m\n\u001b[0;32m    984\u001b[0m           \u001b[1;32mexcept\u001b[0m \u001b[0mException\u001b[0m \u001b[1;32mas\u001b[0m \u001b[0me\u001b[0m\u001b[1;33m:\u001b[0m  \u001b[1;31m# pylint:disable=broad-except\u001b[0m\u001b[1;33m\u001b[0m\u001b[1;33m\u001b[0m\u001b[0m\n\u001b[0;32m    985\u001b[0m             \u001b[1;32mif\u001b[0m \u001b[0mhasattr\u001b[0m\u001b[1;33m(\u001b[0m\u001b[0me\u001b[0m\u001b[1;33m,\u001b[0m \u001b[1;34m\"ag_error_metadata\"\u001b[0m\u001b[1;33m)\u001b[0m\u001b[1;33m:\u001b[0m\u001b[1;33m\u001b[0m\u001b[1;33m\u001b[0m\u001b[0m\n\u001b[1;32m--> 986\u001b[1;33m               \u001b[1;32mraise\u001b[0m \u001b[0me\u001b[0m\u001b[1;33m.\u001b[0m\u001b[0mag_error_metadata\u001b[0m\u001b[1;33m.\u001b[0m\u001b[0mto_exception\u001b[0m\u001b[1;33m(\u001b[0m\u001b[0me\u001b[0m\u001b[1;33m)\u001b[0m\u001b[1;33m\u001b[0m\u001b[1;33m\u001b[0m\u001b[0m\n\u001b[0m\u001b[0;32m    987\u001b[0m             \u001b[1;32melse\u001b[0m\u001b[1;33m:\u001b[0m\u001b[1;33m\u001b[0m\u001b[1;33m\u001b[0m\u001b[0m\n\u001b[0;32m    988\u001b[0m               \u001b[1;32mraise\u001b[0m\u001b[1;33m\u001b[0m\u001b[1;33m\u001b[0m\u001b[0m\n",
      "\u001b[1;31mValueError\u001b[0m: in user code:\n\n    C:\\Users\\Dmitry\\anaconda3\\lib\\site-packages\\tensorflow\\python\\keras\\engine\\training.py:1569 predict_function  *\n        return step_function(self, iterator)\n    C:\\Users\\Dmitry\\anaconda3\\lib\\site-packages\\tensorflow\\python\\keras\\engine\\training.py:1559 step_function  **\n        outputs = model.distribute_strategy.run(run_step, args=(data,))\n    C:\\Users\\Dmitry\\anaconda3\\lib\\site-packages\\tensorflow\\python\\distribute\\distribute_lib.py:1285 run\n        return self._extended.call_for_each_replica(fn, args=args, kwargs=kwargs)\n    C:\\Users\\Dmitry\\anaconda3\\lib\\site-packages\\tensorflow\\python\\distribute\\distribute_lib.py:2833 call_for_each_replica\n        return self._call_for_each_replica(fn, args, kwargs)\n    C:\\Users\\Dmitry\\anaconda3\\lib\\site-packages\\tensorflow\\python\\distribute\\distribute_lib.py:3608 _call_for_each_replica\n        return fn(*args, **kwargs)\n    C:\\Users\\Dmitry\\anaconda3\\lib\\site-packages\\tensorflow\\python\\keras\\engine\\training.py:1552 run_step  **\n        outputs = model.predict_step(data)\n    C:\\Users\\Dmitry\\anaconda3\\lib\\site-packages\\tensorflow\\python\\keras\\engine\\training.py:1525 predict_step\n        return self(x, training=False)\n    C:\\Users\\Dmitry\\anaconda3\\lib\\site-packages\\tensorflow\\python\\keras\\engine\\base_layer.py:1013 __call__\n        input_spec.assert_input_compatibility(self.input_spec, inputs, self.name)\n    C:\\Users\\Dmitry\\anaconda3\\lib\\site-packages\\tensorflow\\python\\keras\\engine\\input_spec.py:251 assert_input_compatibility\n        raise ValueError(\n\n    ValueError: Input 0 of layer sequential is incompatible with the layer: expected axis -1 of input shape to have value 19 but received input with shape (None, 1)\n"
     ]
    }
   ],
   "source": [
    "for frame_index in range(len(np_pipe_frames)):\n",
    "            label = dnn_model.predict(pixel).flatten()"
   ]
  },
  {
   "cell_type": "code",
   "execution_count": 66,
   "metadata": {},
   "outputs": [
    {
     "data": {
      "text/plain": [
       "array([3.0027112e-01, 2.7419907e-01, 3.3966133e-01, 2.6532409e-01,\n",
       "       4.6768442e-01, 8.8107687e-01, 9.9554050e-01, 9.9142230e-01,\n",
       "       1.0795391e+00, 1.1276207e+00, 5.0026357e-01, 3.2289463e-01,\n",
       "       9.9995741e-05, 1.0708008e+00, 0.0000000e+00, 4.4132324e+01,\n",
       "       1.0000000e+00, 3.5827637e+00, 0.0000000e+00], dtype=float32)"
      ]
     },
     "execution_count": 66,
     "metadata": {},
     "output_type": "execute_result"
    }
   ],
   "source": [
    "np.array(train_features.iloc[1, :])"
   ]
  },
  {
   "cell_type": "code",
   "execution_count": 68,
   "metadata": {},
   "outputs": [
    {
     "data": {
      "text/plain": [
       "array([[0.05173795],\n",
       "       [0.6560834 ],\n",
       "       [0.81587243],\n",
       "       ...,\n",
       "       [0.95216763],\n",
       "       [0.2752726 ],\n",
       "       [0.78592205]], dtype=float32)"
      ]
     },
     "execution_count": 68,
     "metadata": {},
     "output_type": "execute_result"
    }
   ],
   "source": [
    "dnn_model.predict(test_features)"
   ]
  },
  {
   "cell_type": "code",
   "execution_count": null,
   "metadata": {},
   "outputs": [],
   "source": [
    "frame = pd.DataFrame"
   ]
  },
  {
   "cell_type": "code",
   "execution_count": 69,
   "metadata": {},
   "outputs": [
    {
     "data": {
      "text/html": [
       "<div>\n",
       "<style scoped>\n",
       "    .dataframe tbody tr th:only-of-type {\n",
       "        vertical-align: middle;\n",
       "    }\n",
       "\n",
       "    .dataframe tbody tr th {\n",
       "        vertical-align: top;\n",
       "    }\n",
       "\n",
       "    .dataframe thead th {\n",
       "        text-align: right;\n",
       "    }\n",
       "</style>\n",
       "<table border=\"1\" class=\"dataframe\">\n",
       "  <thead>\n",
       "    <tr style=\"text-align: right;\">\n",
       "      <th></th>\n",
       "      <th>band_1</th>\n",
       "      <th>band_2</th>\n",
       "      <th>band_3</th>\n",
       "      <th>band_4</th>\n",
       "      <th>band_5</th>\n",
       "      <th>band_6</th>\n",
       "      <th>band_7</th>\n",
       "      <th>band_8</th>\n",
       "      <th>band_9</th>\n",
       "      <th>band_10</th>\n",
       "      <th>band_11</th>\n",
       "      <th>band_12</th>\n",
       "      <th>band_13</th>\n",
       "      <th>band_14</th>\n",
       "      <th>band_15</th>\n",
       "      <th>band_16</th>\n",
       "      <th>band_17</th>\n",
       "      <th>band_18</th>\n",
       "      <th>band_19</th>\n",
       "    </tr>\n",
       "  </thead>\n",
       "  <tbody>\n",
       "    <tr>\n",
       "      <th>10</th>\n",
       "      <td>0.104064</td>\n",
       "      <td>0.199570</td>\n",
       "      <td>0.335654</td>\n",
       "      <td>0.189727</td>\n",
       "      <td>0.538912</td>\n",
       "      <td>1.853454</td>\n",
       "      <td>2.233041</td>\n",
       "      <td>2.321351</td>\n",
       "      <td>2.387251</td>\n",
       "      <td>2.399954</td>\n",
       "      <td>1.052174</td>\n",
       "      <td>0.474047</td>\n",
       "      <td>0.0001</td>\n",
       "      <td>0.000000</td>\n",
       "      <td>0.000000</td>\n",
       "      <td>9.046631</td>\n",
       "      <td>1.0</td>\n",
       "      <td>4.000000</td>\n",
       "      <td>0.000000</td>\n",
       "    </tr>\n",
       "    <tr>\n",
       "      <th>43</th>\n",
       "      <td>0.278742</td>\n",
       "      <td>0.349475</td>\n",
       "      <td>0.556695</td>\n",
       "      <td>0.434873</td>\n",
       "      <td>1.112376</td>\n",
       "      <td>2.293653</td>\n",
       "      <td>2.686766</td>\n",
       "      <td>2.767281</td>\n",
       "      <td>2.974099</td>\n",
       "      <td>2.961491</td>\n",
       "      <td>1.442046</td>\n",
       "      <td>0.747087</td>\n",
       "      <td>0.0002</td>\n",
       "      <td>0.035400</td>\n",
       "      <td>0.000000</td>\n",
       "      <td>12.009766</td>\n",
       "      <td>1.0</td>\n",
       "      <td>4.000000</td>\n",
       "      <td>0.000000</td>\n",
       "    </tr>\n",
       "    <tr>\n",
       "      <th>52</th>\n",
       "      <td>0.211107</td>\n",
       "      <td>0.301669</td>\n",
       "      <td>0.524446</td>\n",
       "      <td>0.436277</td>\n",
       "      <td>1.103926</td>\n",
       "      <td>2.309107</td>\n",
       "      <td>2.725102</td>\n",
       "      <td>2.919625</td>\n",
       "      <td>3.062158</td>\n",
       "      <td>3.094532</td>\n",
       "      <td>1.606576</td>\n",
       "      <td>0.825225</td>\n",
       "      <td>0.0001</td>\n",
       "      <td>0.000000</td>\n",
       "      <td>0.000000</td>\n",
       "      <td>5.662842</td>\n",
       "      <td>1.0</td>\n",
       "      <td>4.000000</td>\n",
       "      <td>0.000000</td>\n",
       "    </tr>\n",
       "    <tr>\n",
       "      <th>75</th>\n",
       "      <td>4.581708</td>\n",
       "      <td>4.054855</td>\n",
       "      <td>3.399466</td>\n",
       "      <td>2.670751</td>\n",
       "      <td>2.871751</td>\n",
       "      <td>3.560759</td>\n",
       "      <td>3.784239</td>\n",
       "      <td>3.687207</td>\n",
       "      <td>3.737922</td>\n",
       "      <td>5.905019</td>\n",
       "      <td>1.650480</td>\n",
       "      <td>0.789598</td>\n",
       "      <td>0.0005</td>\n",
       "      <td>46.801758</td>\n",
       "      <td>1.000000</td>\n",
       "      <td>231.391602</td>\n",
       "      <td>1.0</td>\n",
       "      <td>8.000000</td>\n",
       "      <td>0.000000</td>\n",
       "    </tr>\n",
       "    <tr>\n",
       "      <th>77</th>\n",
       "      <td>0.184656</td>\n",
       "      <td>0.187808</td>\n",
       "      <td>0.391007</td>\n",
       "      <td>0.215773</td>\n",
       "      <td>0.693480</td>\n",
       "      <td>2.382785</td>\n",
       "      <td>2.813554</td>\n",
       "      <td>2.978636</td>\n",
       "      <td>3.037577</td>\n",
       "      <td>3.054376</td>\n",
       "      <td>1.335033</td>\n",
       "      <td>0.603744</td>\n",
       "      <td>0.0001</td>\n",
       "      <td>0.000000</td>\n",
       "      <td>0.000000</td>\n",
       "      <td>7.685547</td>\n",
       "      <td>1.0</td>\n",
       "      <td>4.000000</td>\n",
       "      <td>0.000000</td>\n",
       "    </tr>\n",
       "    <tr>\n",
       "      <th>...</th>\n",
       "      <td>...</td>\n",
       "      <td>...</td>\n",
       "      <td>...</td>\n",
       "      <td>...</td>\n",
       "      <td>...</td>\n",
       "      <td>...</td>\n",
       "      <td>...</td>\n",
       "      <td>...</td>\n",
       "      <td>...</td>\n",
       "      <td>...</td>\n",
       "      <td>...</td>\n",
       "      <td>...</td>\n",
       "      <td>...</td>\n",
       "      <td>...</td>\n",
       "      <td>...</td>\n",
       "      <td>...</td>\n",
       "      <td>...</td>\n",
       "      <td>...</td>\n",
       "      <td>...</td>\n",
       "    </tr>\n",
       "    <tr>\n",
       "      <th>32009</th>\n",
       "      <td>0.482596</td>\n",
       "      <td>0.529474</td>\n",
       "      <td>0.343840</td>\n",
       "      <td>0.141850</td>\n",
       "      <td>0.110897</td>\n",
       "      <td>0.065065</td>\n",
       "      <td>0.066262</td>\n",
       "      <td>0.054609</td>\n",
       "      <td>0.042448</td>\n",
       "      <td>0.034005</td>\n",
       "      <td>0.010528</td>\n",
       "      <td>0.008573</td>\n",
       "      <td>0.0001</td>\n",
       "      <td>0.000000</td>\n",
       "      <td>0.000000</td>\n",
       "      <td>0.000000</td>\n",
       "      <td>1.0</td>\n",
       "      <td>9.198242</td>\n",
       "      <td>0.000000</td>\n",
       "    </tr>\n",
       "    <tr>\n",
       "      <th>337</th>\n",
       "      <td>1.925350</td>\n",
       "      <td>2.205425</td>\n",
       "      <td>2.382690</td>\n",
       "      <td>2.362998</td>\n",
       "      <td>2.834382</td>\n",
       "      <td>3.456944</td>\n",
       "      <td>3.558128</td>\n",
       "      <td>3.784111</td>\n",
       "      <td>3.641893</td>\n",
       "      <td>3.824693</td>\n",
       "      <td>0.894338</td>\n",
       "      <td>0.691150</td>\n",
       "      <td>0.0002</td>\n",
       "      <td>12.791260</td>\n",
       "      <td>0.000000</td>\n",
       "      <td>33.531250</td>\n",
       "      <td>1.0</td>\n",
       "      <td>9.517334</td>\n",
       "      <td>11.965088</td>\n",
       "    </tr>\n",
       "    <tr>\n",
       "      <th>34643</th>\n",
       "      <td>4.193738</td>\n",
       "      <td>4.156022</td>\n",
       "      <td>4.268947</td>\n",
       "      <td>4.192471</td>\n",
       "      <td>4.674706</td>\n",
       "      <td>5.066753</td>\n",
       "      <td>4.806560</td>\n",
       "      <td>4.850052</td>\n",
       "      <td>4.548418</td>\n",
       "      <td>4.656536</td>\n",
       "      <td>0.369636</td>\n",
       "      <td>0.236611</td>\n",
       "      <td>0.0002</td>\n",
       "      <td>0.038086</td>\n",
       "      <td>0.000000</td>\n",
       "      <td>5.693115</td>\n",
       "      <td>1.0</td>\n",
       "      <td>10.997070</td>\n",
       "      <td>73.755859</td>\n",
       "    </tr>\n",
       "    <tr>\n",
       "      <th>49988</th>\n",
       "      <td>2.060263</td>\n",
       "      <td>2.400486</td>\n",
       "      <td>2.311805</td>\n",
       "      <td>2.328529</td>\n",
       "      <td>2.657175</td>\n",
       "      <td>2.844610</td>\n",
       "      <td>2.923580</td>\n",
       "      <td>3.327961</td>\n",
       "      <td>3.027161</td>\n",
       "      <td>3.687274</td>\n",
       "      <td>2.784246</td>\n",
       "      <td>2.416947</td>\n",
       "      <td>0.0002</td>\n",
       "      <td>40.884521</td>\n",
       "      <td>0.702393</td>\n",
       "      <td>114.761719</td>\n",
       "      <td>1.0</td>\n",
       "      <td>6.687500</td>\n",
       "      <td>0.000000</td>\n",
       "    </tr>\n",
       "    <tr>\n",
       "      <th>51402</th>\n",
       "      <td>1.203210</td>\n",
       "      <td>1.200623</td>\n",
       "      <td>0.894181</td>\n",
       "      <td>0.821168</td>\n",
       "      <td>0.832272</td>\n",
       "      <td>0.761741</td>\n",
       "      <td>0.739806</td>\n",
       "      <td>0.737211</td>\n",
       "      <td>0.693837</td>\n",
       "      <td>0.641979</td>\n",
       "      <td>0.632319</td>\n",
       "      <td>0.549959</td>\n",
       "      <td>0.0002</td>\n",
       "      <td>6.945801</td>\n",
       "      <td>0.808838</td>\n",
       "      <td>103.476562</td>\n",
       "      <td>1.0</td>\n",
       "      <td>7.220703</td>\n",
       "      <td>0.000000</td>\n",
       "    </tr>\n",
       "  </tbody>\n",
       "</table>\n",
       "<p>2867 rows × 19 columns</p>\n",
       "</div>"
      ],
      "text/plain": [
       "         band_1    band_2    band_3    band_4    band_5    band_6    band_7  \\\n",
       "10     0.104064  0.199570  0.335654  0.189727  0.538912  1.853454  2.233041   \n",
       "43     0.278742  0.349475  0.556695  0.434873  1.112376  2.293653  2.686766   \n",
       "52     0.211107  0.301669  0.524446  0.436277  1.103926  2.309107  2.725102   \n",
       "75     4.581708  4.054855  3.399466  2.670751  2.871751  3.560759  3.784239   \n",
       "77     0.184656  0.187808  0.391007  0.215773  0.693480  2.382785  2.813554   \n",
       "...         ...       ...       ...       ...       ...       ...       ...   \n",
       "32009  0.482596  0.529474  0.343840  0.141850  0.110897  0.065065  0.066262   \n",
       "337    1.925350  2.205425  2.382690  2.362998  2.834382  3.456944  3.558128   \n",
       "34643  4.193738  4.156022  4.268947  4.192471  4.674706  5.066753  4.806560   \n",
       "49988  2.060263  2.400486  2.311805  2.328529  2.657175  2.844610  2.923580   \n",
       "51402  1.203210  1.200623  0.894181  0.821168  0.832272  0.761741  0.739806   \n",
       "\n",
       "         band_8    band_9   band_10   band_11   band_12  band_13    band_14  \\\n",
       "10     2.321351  2.387251  2.399954  1.052174  0.474047   0.0001   0.000000   \n",
       "43     2.767281  2.974099  2.961491  1.442046  0.747087   0.0002   0.035400   \n",
       "52     2.919625  3.062158  3.094532  1.606576  0.825225   0.0001   0.000000   \n",
       "75     3.687207  3.737922  5.905019  1.650480  0.789598   0.0005  46.801758   \n",
       "77     2.978636  3.037577  3.054376  1.335033  0.603744   0.0001   0.000000   \n",
       "...         ...       ...       ...       ...       ...      ...        ...   \n",
       "32009  0.054609  0.042448  0.034005  0.010528  0.008573   0.0001   0.000000   \n",
       "337    3.784111  3.641893  3.824693  0.894338  0.691150   0.0002  12.791260   \n",
       "34643  4.850052  4.548418  4.656536  0.369636  0.236611   0.0002   0.038086   \n",
       "49988  3.327961  3.027161  3.687274  2.784246  2.416947   0.0002  40.884521   \n",
       "51402  0.737211  0.693837  0.641979  0.632319  0.549959   0.0002   6.945801   \n",
       "\n",
       "        band_15     band_16  band_17    band_18    band_19  \n",
       "10     0.000000    9.046631      1.0   4.000000   0.000000  \n",
       "43     0.000000   12.009766      1.0   4.000000   0.000000  \n",
       "52     0.000000    5.662842      1.0   4.000000   0.000000  \n",
       "75     1.000000  231.391602      1.0   8.000000   0.000000  \n",
       "77     0.000000    7.685547      1.0   4.000000   0.000000  \n",
       "...         ...         ...      ...        ...        ...  \n",
       "32009  0.000000    0.000000      1.0   9.198242   0.000000  \n",
       "337    0.000000   33.531250      1.0   9.517334  11.965088  \n",
       "34643  0.000000    5.693115      1.0  10.997070  73.755859  \n",
       "49988  0.702393  114.761719      1.0   6.687500   0.000000  \n",
       "51402  0.808838  103.476562      1.0   7.220703   0.000000  \n",
       "\n",
       "[2867 rows x 19 columns]"
      ]
     },
     "execution_count": 69,
     "metadata": {},
     "output_type": "execute_result"
    }
   ],
   "source": [
    "test_features"
   ]
  },
  {
   "cell_type": "code",
   "execution_count": 73,
   "metadata": {},
   "outputs": [
    {
     "data": {
      "text/plain": [
       "Index(['band_1', 'band_2', 'band_3', 'band_4', 'band_5', 'band_6', 'band_7',\n",
       "       'band_8', 'band_9', 'band_10', 'band_11', 'band_12', 'band_13',\n",
       "       'band_14', 'band_15', 'band_16', 'band_17', 'band_18', 'band_19'],\n",
       "      dtype='object')"
      ]
     },
     "execution_count": 73,
     "metadata": {},
     "output_type": "execute_result"
    }
   ],
   "source": [
    "test_features.columns"
   ]
  },
  {
   "cell_type": "code",
   "execution_count": null,
   "metadata": {},
   "outputs": [],
   "source": []
  }
 ],
 "metadata": {
  "kernelspec": {
   "display_name": "Python 3",
   "language": "python",
   "name": "python3"
  },
  "language_info": {
   "codemirror_mode": {
    "name": "ipython",
    "version": 3
   },
   "file_extension": ".py",
   "mimetype": "text/x-python",
   "name": "python",
   "nbconvert_exporter": "python",
   "pygments_lexer": "ipython3",
   "version": "3.8.5"
  }
 },
 "nbformat": 4,
 "nbformat_minor": 4
}
